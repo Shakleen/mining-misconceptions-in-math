{
 "cells": [
  {
   "cell_type": "code",
   "execution_count": 1,
   "metadata": {},
   "outputs": [],
   "source": [
    "import os\n",
    "os.chdir(\"../\")"
   ]
  },
  {
   "cell_type": "code",
   "execution_count": 2,
   "metadata": {},
   "outputs": [],
   "source": [
    "import pandas as pd\n",
    "import plotly.express as px\n",
    "from sentence_transformers import SentenceTransformer\n",
    "from umap import UMAP\n",
    "from sklearn.feature_extraction.text import CountVectorizer\n",
    "from hdbscan import HDBSCAN\n",
    "from bertopic import BERTopic\n",
    "\n",
    "from src.utils.seed_everything import seed_everything"
   ]
  },
  {
   "cell_type": "code",
   "execution_count": 3,
   "metadata": {},
   "outputs": [],
   "source": [
    "seed_everything(42)"
   ]
  },
  {
   "cell_type": "markdown",
   "metadata": {},
   "source": [
    "## Load Dataset\n"
   ]
  },
  {
   "cell_type": "code",
   "execution_count": 4,
   "metadata": {},
   "outputs": [
    {
     "data": {
      "text/html": [
       "<div>\n",
       "<style scoped>\n",
       "    .dataframe tbody tr th:only-of-type {\n",
       "        vertical-align: middle;\n",
       "    }\n",
       "\n",
       "    .dataframe tbody tr th {\n",
       "        vertical-align: top;\n",
       "    }\n",
       "\n",
       "    .dataframe thead th {\n",
       "        text-align: right;\n",
       "    }\n",
       "</style>\n",
       "<table border=\"1\" class=\"dataframe\">\n",
       "  <thead>\n",
       "    <tr style=\"text-align: right;\">\n",
       "      <th></th>\n",
       "      <th>MisconceptionId</th>\n",
       "      <th>MisconceptionName</th>\n",
       "    </tr>\n",
       "  </thead>\n",
       "  <tbody>\n",
       "    <tr>\n",
       "      <th>0</th>\n",
       "      <td>0</td>\n",
       "      <td>Does not know that angles in a triangle sum to...</td>\n",
       "    </tr>\n",
       "    <tr>\n",
       "      <th>1</th>\n",
       "      <td>1</td>\n",
       "      <td>Uses dividing fractions method for multiplying...</td>\n",
       "    </tr>\n",
       "    <tr>\n",
       "      <th>2</th>\n",
       "      <td>2</td>\n",
       "      <td>Believes there are 100 degrees in a full turn</td>\n",
       "    </tr>\n",
       "    <tr>\n",
       "      <th>3</th>\n",
       "      <td>3</td>\n",
       "      <td>Thinks a quadratic without a non variable term...</td>\n",
       "    </tr>\n",
       "    <tr>\n",
       "      <th>4</th>\n",
       "      <td>4</td>\n",
       "      <td>Believes addition of terms and powers of terms...</td>\n",
       "    </tr>\n",
       "  </tbody>\n",
       "</table>\n",
       "</div>"
      ],
      "text/plain": [
       "   MisconceptionId                                  MisconceptionName\n",
       "0                0  Does not know that angles in a triangle sum to...\n",
       "1                1  Uses dividing fractions method for multiplying...\n",
       "2                2      Believes there are 100 degrees in a full turn\n",
       "3                3  Thinks a quadratic without a non variable term...\n",
       "4                4  Believes addition of terms and powers of terms..."
      ]
     },
     "execution_count": 4,
     "metadata": {},
     "output_type": "execute_result"
    }
   ],
   "source": [
    "df = pd.read_csv(\"data/misconceptions-datasetas216_mx.csv\")\n",
    "df.head()"
   ]
  },
  {
   "cell_type": "code",
   "execution_count": 5,
   "metadata": {},
   "outputs": [],
   "source": [
    "df[\"MisconceptionName\"] = df[\"MisconceptionName\"].map(lambda x: x.strip())"
   ]
  },
  {
   "cell_type": "markdown",
   "metadata": {},
   "source": [
    "## Precompute Embeddings"
   ]
  },
  {
   "cell_type": "code",
   "execution_count": 6,
   "metadata": {},
   "outputs": [
    {
     "data": {
      "application/vnd.jupyter.widget-view+json": {
       "model_id": "815d3c0f59db4d589b575f3fd87e5e89",
       "version_major": 2,
       "version_minor": 0
      },
      "text/plain": [
       "Batches:   0%|          | 0/81 [00:00<?, ?it/s]"
      ]
     },
     "metadata": {},
     "output_type": "display_data"
    }
   ],
   "source": [
    "embedding_model = SentenceTransformer(\"all-MiniLM-L6-v2\")\n",
    "embeddings = embedding_model.encode(df[\"MisconceptionName\"], show_progress_bar=True)"
   ]
  },
  {
   "cell_type": "markdown",
   "metadata": {},
   "source": [
    "## Reduce Dimensionality"
   ]
  },
  {
   "cell_type": "code",
   "execution_count": 7,
   "metadata": {},
   "outputs": [],
   "source": [
    "umap_model = UMAP(\n",
    "    n_neighbors=50, # larger = Global trends, smaller = local trends\n",
    "    n_components=25, # The dimension of the space to embed into. \n",
    "    min_dist=0.0, # larger = even dispersal of points, smaller = more clustered/clumped embedding\n",
    "    metric=\"cosine\", \n",
    "    random_state=42,\n",
    ")"
   ]
  },
  {
   "cell_type": "markdown",
   "metadata": {},
   "source": [
    "## Controls Number of Topics"
   ]
  },
  {
   "cell_type": "code",
   "execution_count": 8,
   "metadata": {},
   "outputs": [],
   "source": [
    "hdbscan_model = HDBSCAN(\n",
    "    min_cluster_size=25, # Larger = Fewer topics, Smaller = More topics\n",
    "    metric=\"euclidean\",\n",
    "    cluster_selection_method=\"eom\",\n",
    "    prediction_data=True,\n",
    ")"
   ]
  },
  {
   "cell_type": "markdown",
   "metadata": {},
   "source": [
    "## Improving Default Representations\n"
   ]
  },
  {
   "cell_type": "code",
   "execution_count": 9,
   "metadata": {},
   "outputs": [],
   "source": [
    "vectorizer_model = CountVectorizer(\n",
    "    stop_words=\"english\",\n",
    "    ngram_range=(1, 3),\n",
    "    strip_accents=\"unicode\",\n",
    "    analyzer=\"word\",\n",
    "    min_df=0.10,\n",
    "    max_df=0.90,\n",
    ")"
   ]
  },
  {
   "cell_type": "markdown",
   "metadata": {},
   "source": [
    "## Topic Modeling"
   ]
  },
  {
   "cell_type": "code",
   "execution_count": 10,
   "metadata": {},
   "outputs": [
    {
     "name": "stdout",
     "output_type": "stream",
     "text": [
      "env: TOKENIZERS_PARALLELISM=true\n"
     ]
    }
   ],
   "source": [
    "%env TOKENIZERS_PARALLELISM=true"
   ]
  },
  {
   "cell_type": "code",
   "execution_count": 11,
   "metadata": {},
   "outputs": [
    {
     "name": "stderr",
     "output_type": "stream",
     "text": [
      "2024-11-28 09:49:37,807 - BERTopic - Dimensionality - Fitting the dimensionality reduction algorithm\n",
      "2024-11-28 09:49:51,910 - BERTopic - Dimensionality - Completed ✓\n",
      "2024-11-28 09:49:51,910 - BERTopic - Cluster - Start clustering the reduced embeddings\n",
      "2024-11-28 09:49:52,084 - BERTopic - Cluster - Completed ✓\n",
      "2024-11-28 09:49:52,086 - BERTopic - Representation - Extracting topics from clusters using representation models.\n",
      "2024-11-28 09:49:52,134 - BERTopic - Representation - Completed ✓\n"
     ]
    }
   ],
   "source": [
    "topic_model = BERTopic(\n",
    "    # Pipeline models\n",
    "    embedding_model=embedding_model,\n",
    "    umap_model=umap_model,\n",
    "    hdbscan_model=hdbscan_model,\n",
    "    vectorizer_model=vectorizer_model,\n",
    "    # Hyperparameters\n",
    "    top_n_words=10,\n",
    "    verbose=True,\n",
    "    calculate_probabilities=True,\n",
    ")\n",
    "\n",
    "# Train model\n",
    "topics, probs = topic_model.fit_transform(df[\"MisconceptionName\"], embeddings)\n"
   ]
  },
  {
   "cell_type": "code",
   "execution_count": 12,
   "metadata": {},
   "outputs": [
    {
     "name": "stdout",
     "output_type": "stream",
     "text": [
      "Topic -1: number,function,know,time,does know,distance,brackets,algebraic,line,fraction\n",
      "Topic 0: fraction,fractions,denominator,numerator,dividing,integer,numerator denominator,reciprocal,parts,multiplies\n",
      "Topic 1: decimal,digits,place,10,place value,digit,decimals,value,places,decimal point\n",
      "Topic 2: mean,table,data,total,midpoint,width,group,bar,divided,calculating\n",
      "Topic 3: angles,angle,degrees,sum,opposite,360,triangle,isosceles,vertically,right\n",
      "Topic 4: graph,intercept,line,axis,equation,quadratic,linear,coordinates,confuses,solution\n",
      "Topic 5: negative,positive,answer,sign,negative number,absolute,subtracting,number,vector,power\n",
      "Topic 6: operations,addition,inverse,order,multiplication,subtraction,subtracts,order operations,operation,subtracts instead\n",
      "Topic 7: area,perimeter,height,length,calculating,calculating area,squares,base,triangle,missing\n",
      "Topic 8: decimal,100,change,converting,fraction,convert,decimal point,writing,decrease,10\n",
      "Topic 9: term,sequence,rule,term term,position,linear,linear sequence,thinks term,difference,coefficient\n",
      "Topic 10: unit,cubic,does recognise,recognise,thinks 10,10,volume,length,100,think\n",
      "Topic 11: common,factors,factor,prime,multiple,numbers,multiples,highest,number,factor believes\n",
      "Topic 12: second,method,marked,best,combined,using,estimate,question,size,possible\n",
      "Topic 13: square,root,square root,mixes,cube,numbers,squared,number,multiplying,expression\n",
      "Topic 14: powers,power,base,numbers,variable,multiplying,added,dividing,power thinks,thinks multiplying\n",
      "Topic 15: scale,scale factor,factor,length,image,original,shape,centre,lengths,shapes\n",
      "Topic 16: quadratic,coefficient,constant,factorised,form,constants,square,form believes,squares,solutions\n",
      "Topic 17: gradient,change,line,change believes,points,intercept,equation,line believes,speed,straight line\n",
      "Topic 18: edges,shape,struggles,section,cross,shapes,sides,drawing,sides believes,vertices\n",
      "Topic 19: time,answers,times,100,speed,converted,changing,unit,worded,10\n",
      "Topic 20: variable,expression,formula,confuses,equation,coefficient,situation,spot,remain,making\n",
      "Topic 21: line,shape,coordinate,fails,shape believes,point,line believes,coordinates,axis,diagonal\n",
      "Topic 22: integer,simplifying,square,number,largest,adding subtracting,root,adding,subtracting,simplify\n",
      "Topic 23: confuses,circle,sector,area,finds,perimeter,squared,length,sectors,instead\n",
      "Topic 24: range,data,value,points,smallest,values,number,gives number,biggest,certain\n",
      "Topic 25: equations,simultaneous,simultaneous equations,solving,coefficients,terms,signs,variable,equation,variables\n"
     ]
    }
   ],
   "source": [
    "for i in topic_model.get_topics().keys():\n",
    "    print(\n",
    "        f\"Topic {i}: \"\n",
    "        + \",\".join(topic_model.get_topic_info(i)[\"Representation\"].tolist()[0])\n",
    "    )"
   ]
  },
  {
   "cell_type": "markdown",
   "metadata": {},
   "source": [
    "## Visualize Topics"
   ]
  },
  {
   "cell_type": "code",
   "execution_count": 13,
   "metadata": {},
   "outputs": [],
   "source": [
    "reduced_embeddings = UMAP(n_neighbors=10, n_components=2, min_dist=0.0, metric='cosine').fit_transform(embeddings)"
   ]
  },
  {
   "cell_type": "code",
   "execution_count": 14,
   "metadata": {},
   "outputs": [
    {
     "data": {
      "image/png": "[encoded data removed]",
      "text/plain": [
       "<Figure size 1200x1200 with 1 Axes>"
      ]
     },
     "metadata": {},
     "output_type": "display_data"
    }
   ],
   "source": [
    "_ = topic_model.visualize_document_datamap(\n",
    "    df[\"MisconceptionName\"],\n",
    "    reduced_embeddings=reduced_embeddings,\n",
    ")"
   ]
  },
  {
   "cell_type": "markdown",
   "metadata": {},
   "source": [
    "## Topic Similarity"
   ]
  },
  {
   "cell_type": "code",
   "execution_count": 15,
   "metadata": {},
   "outputs": [
    {
     "data": {
      "application/vnd.plotly.v1+json": {
       "config": {
        "plotlyServerURL": "https://plot.ly"
       },
       "data": [
        {
         "coloraxis": "coloraxis",
         "hovertemplate": "x: %{x}<br>y: %{y}<br>Similarity Score: %{z}<extra></extra>",
         "name": "0",
         "type": "heatmap",
         "x": [
          "0_fraction_fractions_denomi...",
          "1_decimal_digits_place",
          "2_mean_table_data",
          "3_angles_angle_degrees",
          "4_graph_intercept_line",
          "5_negative_positive_answer",
          "6_operations_addition_inverse",
          "7_area_perimeter_height",
          "8_decimal_100_change",
          "9_term_sequence_rule",
          "10_unit_cubic_does recognise",
          "11_common_factors_factor",
          "12_second_method_marked",
          "13_square_root_square root",
          "14_powers_power_base",
          "15_scale_scale factor_factor",
          "16_quadratic_coefficient_co...",
          "17_gradient_change_line",
          "18_edges_shape_struggles",
          "19_time_answers_times",
          "20_variable_expression_form...",
          "21_line_shape_coordinate",
          "22_integer_simplifying_square",
          "23_confuses_circle_sector",
          "24_range_data_value",
          "25_equations_simultaneous_s..."
         ],
         "xaxis": "x",
         "y": [
          "0_fraction_fractions_denomi...",
          "1_decimal_digits_place",
          "2_mean_table_data",
          "3_angles_angle_degrees",
          "4_graph_intercept_line",
          "5_negative_positive_answer",
          "6_operations_addition_inverse",
          "7_area_perimeter_height",
          "8_decimal_100_change",
          "9_term_sequence_rule",
          "10_unit_cubic_does recognise",
          "11_common_factors_factor",
          "12_second_method_marked",
          "13_square_root_square root",
          "14_powers_power_base",
          "15_scale_scale factor_factor",
          "16_quadratic_coefficient_co...",
          "17_gradient_change_line",
          "18_edges_shape_struggles",
          "19_time_answers_times",
          "20_variable_expression_form...",
          "21_line_shape_coordinate",
          "22_integer_simplifying_square",
          "23_confuses_circle_sector",
          "24_range_data_value",
          "25_equations_simultaneous_s..."
         ],
         "yaxis": "y",
         "z": [
          [
           1,
           0.5794781446456909,
           0.36638379096984863,
           0.2610384225845337,
           0.36621665954589844,
           0.534362256526947,
           0.6353168487548828,
           0.4625774621963501,
           0.7142994403839111,
           0.3499922454357147,
           0.3665426969528198,
           0.49798211455345154,
           0.4056437015533447,
           0.5056493282318115,
           0.5628256797790527,
           0.49182578921318054,
           0.4191522002220154,
           0.2318519651889801,
           0.20405074954032898,
           0.3536722660064697,
           0.5363050699234009,
           0.07856230437755585,
           0.5556126832962036,
           0.4150174856185913,
           0.30313700437545776,
           0.502780556678772
          ],
          [
           0.5794781446456909,
           0.9999998807907104,
           0.434120237827301,
           0.24530406296253204,
           0.32379448413848877,
           0.5296106338500977,
           0.6131467819213867,
           0.40982306003570557,
           0.7111504077911377,
           0.37244293093681335,
           0.5153564214706421,
           0.5234222412109375,
           0.38519155979156494,
           0.5640907883644104,
           0.5773637294769287,
           0.4689441919326782,
           0.3054678738117218,
           0.11949314922094345,
           0.12074905633926392,
           0.4690466523170471,
           0.4323381781578064,
           0.06926681101322174,
           0.5380362868309021,
           0.3542415499687195,
           0.49559473991394043,
           0.33773690462112427
          ],
          [
           0.36638379096984863,
           0.434120237827301,
           0.9999999403953552,
           0.29267704486846924,
           0.3718913793563843,
           0.34846943616867065,
           0.3497503995895386,
           0.3894408941268921,
           0.41822052001953125,
           0.27712172269821167,
           0.34243184328079224,
           0.38393309712409973,
           0.38299474120140076,
           0.2833021581172943,
           0.2408011257648468,
           0.45127081871032715,
           0.2021382451057434,
           0.16113287210464478,
           0.24243876338005066,
           0.35962456464767456,
           0.25331905484199524,
           0.15077242255210876,
           0.2815748155117035,
           0.3273720145225525,
           0.589409351348877,
           0.21227580308914185
          ],
          [
           0.2610384225845337,
           0.24530406296253204,
           0.29267704486846924,
           0.9999996423721313,
           0.39406856894493103,
           0.3548930883407593,
           0.2861356735229492,
           0.5690837502479553,
           0.196112722158432,
           0.18152830004692078,
           0.2540019154548645,
           0.17228242754936218,
           0.15829282999038696,
           0.32316502928733826,
           0.17235365509986877,
           0.28109270334243774,
           0.20061901211738586,
           0.2622249722480774,
           0.5927156209945679,
           0.20019102096557617,
           0.23559336364269257,
           0.3565298616886139,
           0.15946923196315765,
           0.5174766778945923,
           0.17210417985916138,
           0.2917020618915558
          ],
          [
           0.36621665954589844,
           0.32379448413848877,
           0.3718913793563843,
           0.39406856894493103,
           1.0000001192092896,
           0.5029741525650024,
           0.3931580185890198,
           0.40244677662849426,
           0.2876778244972229,
           0.23516827821731567,
           0.2697191834449768,
           0.24644573032855988,
           0.16439199447631836,
           0.3641955554485321,
           0.2673308849334717,
           0.4183139204978943,
           0.5008925199508667,
           0.6013541221618652,
           0.4124065339565277,
           0.223535418510437,
           0.44973477721214294,
           0.5070813894271851,
           0.30682647228240967,
           0.35358554124832153,
           0.32558515667915344,
           0.5393517017364502
          ],
          [
           0.534362256526947,
           0.5296106338500977,
           0.34846943616867065,
           0.3548930883407593,
           0.5029741525650024,
           1.0000001192092896,
           0.6080054044723511,
           0.32767683267593384,
           0.46690672636032104,
           0.36007457971572876,
           0.2880365550518036,
           0.41046464443206787,
           0.3220500946044922,
           0.49834194779396057,
           0.476196825504303,
           0.37778058648109436,
           0.4206932783126831,
           0.3232627213001251,
           0.19556525349617004,
           0.3180156350135803,
           0.4941667318344116,
           0.254262238740921,
           0.42747974395751953,
           0.2804109454154968,
           0.4558281898498535,
           0.477919340133667
          ],
          [
           0.6353168487548828,
           0.6131467819213867,
           0.3497503995895386,
           0.2861356735229492,
           0.3931580185890198,
           0.6080054044723511,
           1.000000238418579,
           0.420133113861084,
           0.5115249156951904,
           0.4639025330543518,
           0.3295743763446808,
           0.4627174139022827,
           0.3690439760684967,
           0.5589384436607361,
           0.6594641208648682,
           0.39614367485046387,
           0.4414142370223999,
           0.26532500982284546,
           0.17205262184143066,
           0.42342978715896606,
           0.654290497303009,
           0.14327426254749298,
           0.5511071681976318,
           0.26518958806991577,
           0.34421056509017944,
           0.6101263761520386
          ],
          [
           0.4625774621963501,
           0.40982306003570557,
           0.3894408941268921,
           0.5690837502479553,
           0.40244677662849426,
           0.32767683267593384,
           0.420133113861084,
           1.000000238418579,
           0.38717323541641235,
           0.20097169280052185,
           0.4366210699081421,
           0.22730231285095215,
           0.24842989444732666,
           0.4500850439071655,
           0.2824621796607971,
           0.5471280217170715,
           0.33178114891052246,
           0.24209074676036835,
           0.6053929924964905,
           0.32943451404571533,
           0.3451972007751465,
           0.24170821905136108,
           0.29731959104537964,
           0.6272152662277222,
           0.2930341362953186,
           0.319513738155365
          ],
          [
           0.7142994403839111,
           0.7111504077911377,
           0.41822052001953125,
           0.196112722158432,
           0.2876778244972229,
           0.46690672636032104,
           0.5115249156951904,
           0.38717323541641235,
           1.0000001192092896,
           0.23628151416778564,
           0.4030900299549103,
           0.43143630027770996,
           0.43034443259239197,
           0.4064949154853821,
           0.45653340220451355,
           0.39248019456863403,
           0.25863099098205566,
           0.20637376606464386,
           0.08022361248731613,
           0.408374547958374,
           0.40079164505004883,
           0.055845439434051514,
           0.4515376687049866,
           0.3426482677459717,
           0.33014392852783203,
           0.28180089592933655
          ],
          [
           0.3499922454357147,
           0.37244293093681335,
           0.27712172269821167,
           0.18152830004692078,
           0.23516827821731567,
           0.36007457971572876,
           0.4639025330543518,
           0.20097169280052185,
           0.23628151416778564,
           1,
           0.1685914397239685,
           0.35700172185897827,
           0.23968471586704254,
           0.3645782470703125,
           0.3743193447589874,
           0.23798303306102753,
           0.4032837748527527,
           0.19331611692905426,
           0.10449486970901489,
           0.23472511768341064,
           0.4974789321422577,
           0.04915417358279228,
           0.3075599670410156,
           0.1382390260696411,
           0.294903963804245,
           0.34800052642822266
          ],
          [
           0.3665426969528198,
           0.5153564214706421,
           0.34243184328079224,
           0.2540019154548645,
           0.2697191834449768,
           0.2880365550518036,
           0.3295743763446808,
           0.4366210699081421,
           0.4030900299549103,
           0.1685914397239685,
           0.9999997019767761,
           0.29249390959739685,
           0.2183317393064499,
           0.37248045206069946,
           0.32482391595840454,
           0.5201278924942017,
           0.1616974174976349,
           0.1446027159690857,
           0.2815776467323303,
           0.4057898223400116,
           0.2633236050605774,
           0.0486578606069088,
           0.25299468636512756,
           0.422849178314209,
           0.34284132719039917,
           0.16878466308116913
          ],
          [
           0.49798211455345154,
           0.5234222412109375,
           0.38393309712409973,
           0.17228242754936218,
           0.24644573032855988,
           0.41046464443206787,
           0.4627174139022827,
           0.22730231285095215,
           0.43143630027770996,
           0.35700172185897827,
           0.29249390959739685,
           1.000000238418579,
           0.3046557605266571,
           0.5030609965324402,
           0.5224411487579346,
           0.39105790853500366,
           0.4654327630996704,
           0.05836816504597664,
           0.1165873110294342,
           0.274089515209198,
           0.33101093769073486,
           0.051716841757297516,
           0.49615025520324707,
           0.24320034682750702,
           0.3633074164390564,
           0.3788462281227112
          ],
          [
           0.4056437015533447,
           0.38519155979156494,
           0.38299474120140076,
           0.15829282999038696,
           0.16439199447631836,
           0.3220500946044922,
           0.3690439760684967,
           0.24842989444732666,
           0.43034443259239197,
           0.23968471586704254,
           0.2183317393064499,
           0.3046557605266571,
           0.9999999403953552,
           0.24503710865974426,
           0.24215355515480042,
           0.25267162919044495,
           0.12163366377353668,
           0.04281670227646828,
           0.12436255812644958,
           0.3066602945327759,
           0.35152071714401245,
           0.05910841375589371,
           0.2441639006137848,
           0.17964139580726624,
           0.3260829448699951,
           0.27084875106811523
          ],
          [
           0.5056493282318115,
           0.5640907883644104,
           0.2833021581172943,
           0.32316502928733826,
           0.3641955554485321,
           0.49834194779396057,
           0.5589384436607361,
           0.4500850439071655,
           0.4064949154853821,
           0.3645782470703125,
           0.37248045206069946,
           0.5030609965324402,
           0.24503710865974426,
           0.9999997615814209,
           0.6197348833084106,
           0.42650875449180603,
           0.5889278650283813,
           0.11096520721912384,
           0.3253157138824463,
           0.35148268938064575,
           0.4677819013595581,
           0.10680671036243439,
           0.6458073854446411,
           0.37597447633743286,
           0.32992133498191833,
           0.4172983765602112
          ],
          [
           0.5628256797790527,
           0.5773637294769287,
           0.2408011257648468,
           0.17235365509986877,
           0.2673308849334717,
           0.476196825504303,
           0.6594641208648682,
           0.2824621796607971,
           0.45653340220451355,
           0.3743193447589874,
           0.32482391595840454,
           0.5224411487579346,
           0.24215355515480042,
           0.6197348833084106,
           1,
           0.36615341901779175,
           0.4250389039516449,
           0.11516930907964706,
           0.09943290054798126,
           0.28913456201553345,
           0.5499207973480225,
           0.03865759074687958,
           0.5923611521720886,
           0.2900416851043701,
           0.2306772917509079,
           0.41939663887023926
          ],
          [
           0.49182578921318054,
           0.4689441919326782,
           0.45127081871032715,
           0.28109270334243774,
           0.4183139204978943,
           0.37778058648109436,
           0.39614367485046387,
           0.5471280217170715,
           0.39248019456863403,
           0.23798303306102753,
           0.5201278924942017,
           0.39105790853500366,
           0.25267162919044495,
           0.42650875449180603,
           0.36615341901779175,
           1.000000238418579,
           0.3828267455101013,
           0.2195727378129959,
           0.3999353051185608,
           0.256531685590744,
           0.34827345609664917,
           0.23668211698532104,
           0.34466421604156494,
           0.4986206293106079,
           0.37463483214378357,
           0.3320942223072052
          ],
          [
           0.4191522002220154,
           0.3054678738117218,
           0.2021382451057434,
           0.20061901211738586,
           0.5008925199508667,
           0.4206932783126831,
           0.4414142370223999,
           0.33178114891052246,
           0.25863099098205566,
           0.4032837748527527,
           0.1616974174976349,
           0.4654327630996704,
           0.12163366377353668,
           0.5889278650283813,
           0.4250389039516449,
           0.3828267455101013,
           0.9999996423721313,
           0.2811683416366577,
           0.1312733143568039,
           0.19800323247909546,
           0.51841139793396,
           0.2553345561027527,
           0.44613367319107056,
           0.221169576048851,
           0.18244341015815735,
           0.5596809387207031
          ],
          [
           0.2318519651889801,
           0.11949314922094345,
           0.16113287210464478,
           0.2622249722480774,
           0.6013541221618652,
           0.3232627213001251,
           0.26532500982284546,
           0.24209074676036835,
           0.20637376606464386,
           0.19331611692905426,
           0.1446027159690857,
           0.05836816504597664,
           0.04281670227646828,
           0.11096520721912384,
           0.11516930907964706,
           0.2195727378129959,
           0.2811683416366577,
           1.0000001192092896,
           0.2762572765350342,
           0.08710036426782608,
           0.3263744115829468,
           0.3302612900733948,
           0.07786598056554794,
           0.20974838733673096,
           0.1505194753408432,
           0.24209032952785492
          ],
          [
           0.20405074954032898,
           0.12074905633926392,
           0.24243876338005066,
           0.5927156209945679,
           0.4124065339565277,
           0.19556525349617004,
           0.17205262184143066,
           0.6053929924964905,
           0.08022361248731613,
           0.10449486970901489,
           0.2815776467323303,
           0.1165873110294342,
           0.12436255812644958,
           0.3253157138824463,
           0.09943290054798126,
           0.3999353051185608,
           0.1312733143568039,
           0.2762572765350342,
           1.0000003576278687,
           0.11210322380065918,
           0.10856457054615021,
           0.3612940311431885,
           0.13646000623703003,
           0.3800698518753052,
           0.12927758693695068,
           0.1805981695652008
          ],
          [
           0.3536722660064697,
           0.4690466523170471,
           0.35962456464767456,
           0.20019102096557617,
           0.223535418510437,
           0.3180156350135803,
           0.42342978715896606,
           0.32943451404571533,
           0.408374547958374,
           0.23472511768341064,
           0.4057898223400116,
           0.274089515209198,
           0.3066602945327759,
           0.35148268938064575,
           0.28913456201553345,
           0.256531685590744,
           0.19800323247909546,
           0.08710036426782608,
           0.11210322380065918,
           1.000000238418579,
           0.30303001403808594,
           0.06034477800130844,
           0.24265968799591064,
           0.2598933279514313,
           0.27570363879203796,
           0.24676570296287537
          ],
          [
           0.5363050699234009,
           0.4323381781578064,
           0.25331905484199524,
           0.23559336364269257,
           0.44973477721214294,
           0.4941667318344116,
           0.654290497303009,
           0.3451972007751465,
           0.40079164505004883,
           0.4974789321422577,
           0.2633236050605774,
           0.33101093769073486,
           0.35152071714401245,
           0.4677819013595581,
           0.5499207973480225,
           0.34827345609664917,
           0.51841139793396,
           0.3263744115829468,
           0.10856457054615021,
           0.30303001403808594,
           1,
           0.17267978191375732,
           0.3817811906337738,
           0.30889058113098145,
           0.2858022153377533,
           0.6346063613891602
          ],
          [
           0.07856230437755585,
           0.06926681101322174,
           0.15077242255210876,
           0.3565298616886139,
           0.5070813894271851,
           0.254262238740921,
           0.14327426254749298,
           0.24170821905136108,
           0.055845439434051514,
           0.04915417358279228,
           0.0486578606069088,
           0.051716841757297516,
           0.05910841375589371,
           0.10680671036243439,
           0.03865759074687958,
           0.23668211698532104,
           0.2553345561027527,
           0.3302612900733948,
           0.3612940311431885,
           0.06034477800130844,
           0.17267978191375732,
           0.9999998807907104,
           0.17546261847019196,
           0.20795705914497375,
           0.05169667676091194,
           0.21304115653038025
          ],
          [
           0.5556126832962036,
           0.5380362868309021,
           0.2815748155117035,
           0.15946923196315765,
           0.30682647228240967,
           0.42747974395751953,
           0.5511071681976318,
           0.29731959104537964,
           0.4515376687049866,
           0.3075599670410156,
           0.25299468636512756,
           0.49615025520324707,
           0.2441639006137848,
           0.6458073854446411,
           0.5923611521720886,
           0.34466421604156494,
           0.44613367319107056,
           0.07786598056554794,
           0.13646000623703003,
           0.24265968799591064,
           0.3817811906337738,
           0.17546261847019196,
           1.0000001192092896,
           0.30773305892944336,
           0.35765260457992554,
           0.3500436246395111
          ],
          [
           0.4150174856185913,
           0.3542415499687195,
           0.3273720145225525,
           0.5174766778945923,
           0.35358554124832153,
           0.2804109454154968,
           0.26518958806991577,
           0.6272152662277222,
           0.3426482677459717,
           0.1382390260696411,
           0.422849178314209,
           0.24320034682750702,
           0.17964139580726624,
           0.37597447633743286,
           0.2900416851043701,
           0.4986206293106079,
           0.221169576048851,
           0.20974838733673096,
           0.3800698518753052,
           0.2598933279514313,
           0.30889058113098145,
           0.20795705914497375,
           0.30773305892944336,
           1.0000001192092896,
           0.1947413682937622,
           0.2103978991508484
          ],
          [
           0.30313700437545776,
           0.49559473991394043,
           0.589409351348877,
           0.17210417985916138,
           0.32558515667915344,
           0.4558281898498535,
           0.34421056509017944,
           0.2930341362953186,
           0.33014392852783203,
           0.294903963804245,
           0.34284132719039917,
           0.3633074164390564,
           0.3260829448699951,
           0.32992133498191833,
           0.2306772917509079,
           0.37463483214378357,
           0.18244341015815735,
           0.1505194753408432,
           0.12927758693695068,
           0.27570363879203796,
           0.2858022153377533,
           0.05169667676091194,
           0.35765260457992554,
           0.1947413682937622,
           0.9999998807907104,
           0.22608938813209534
          ],
          [
           0.502780556678772,
           0.33773690462112427,
           0.21227580308914185,
           0.2917020618915558,
           0.5393517017364502,
           0.477919340133667,
           0.6101263761520386,
           0.319513738155365,
           0.28180089592933655,
           0.34800052642822266,
           0.16878466308116913,
           0.3788462281227112,
           0.27084875106811523,
           0.4172983765602112,
           0.41939663887023926,
           0.3320942223072052,
           0.5596809387207031,
           0.24209032952785492,
           0.1805981695652008,
           0.24676570296287537,
           0.6346063613891602,
           0.21304115653038025,
           0.3500436246395111,
           0.2103978991508484,
           0.22608938813209534,
           1.000000238418579
          ]
         ]
        }
       ],
       "layout": {
        "coloraxis": {
         "colorbar": {
          "title": {
           "text": "Similarity Score"
          }
         },
         "colorscale": [
          [
           0,
           "rgb(247,252,240)"
          ],
          [
           0.125,
           "rgb(224,243,219)"
          ],
          [
           0.25,
           "rgb(204,235,197)"
          ],
          [
           0.375,
           "rgb(168,221,181)"
          ],
          [
           0.5,
           "rgb(123,204,196)"
          ],
          [
           0.625,
           "rgb(78,179,211)"
          ],
          [
           0.75,
           "rgb(43,140,190)"
          ],
          [
           0.875,
           "rgb(8,104,172)"
          ],
          [
           1,
           "rgb(8,64,129)"
          ]
         ]
        },
        "height": 800,
        "hoverlabel": {
         "bgcolor": "white",
         "font": {
          "family": "Rockwell",
          "size": 16
         }
        },
        "legend": {
         "title": {
          "text": "Trend"
         }
        },
        "margin": {
         "t": 60
        },
        "showlegend": true,
        "template": {
         "data": {
          "bar": [
           {
            "error_x": {
             "color": "#2a3f5f"
            },
            "error_y": {
             "color": "#2a3f5f"
            },
            "marker": {
             "line": {
              "color": "#E5ECF6",
              "width": 0.5
             },
             "pattern": {
              "fillmode": "overlay",
              "size": 10,
              "solidity": 0.2
             }
            },
            "type": "bar"
           }
          ],
          "barpolar": [
           {
            "marker": {
             "line": {
              "color": "#E5ECF6",
              "width": 0.5
             },
             "pattern": {
              "fillmode": "overlay",
              "size": 10,
              "solidity": 0.2
             }
            },
            "type": "barpolar"
           }
          ],
          "carpet": [
           {
            "aaxis": {
             "endlinecolor": "#2a3f5f",
             "gridcolor": "white",
             "linecolor": "white",
             "minorgridcolor": "white",
             "startlinecolor": "#2a3f5f"
            },
            "baxis": {
             "endlinecolor": "#2a3f5f",
             "gridcolor": "white",
             "linecolor": "white",
             "minorgridcolor": "white",
             "startlinecolor": "#2a3f5f"
            },
            "type": "carpet"
           }
          ],
          "choropleth": [
           {
            "colorbar": {
             "outlinewidth": 0,
             "ticks": ""
            },
            "type": "choropleth"
           }
          ],
          "contour": [
           {
            "colorbar": {
             "outlinewidth": 0,
             "ticks": ""
            },
            "colorscale": [
             [
              0,
              "#0d0887"
             ],
             [
              0.1111111111111111,
              "#46039f"
             ],
             [
              0.2222222222222222,
              "#7201a8"
             ],
             [
              0.3333333333333333,
              "#9c179e"
             ],
             [
              0.4444444444444444,
              "#bd3786"
             ],
             [
              0.5555555555555556,
              "#d8576b"
             ],
             [
              0.6666666666666666,
              "#ed7953"
             ],
             [
              0.7777777777777778,
              "#fb9f3a"
             ],
             [
              0.8888888888888888,
              "#fdca26"
             ],
             [
              1,
              "#f0f921"
             ]
            ],
            "type": "contour"
           }
          ],
          "contourcarpet": [
           {
            "colorbar": {
             "outlinewidth": 0,
             "ticks": ""
            },
            "type": "contourcarpet"
           }
          ],
          "heatmap": [
           {
            "colorbar": {
             "outlinewidth": 0,
             "ticks": ""
            },
            "colorscale": [
             [
              0,
              "#0d0887"
             ],
             [
              0.1111111111111111,
              "#46039f"
             ],
             [
              0.2222222222222222,
              "#7201a8"
             ],
             [
              0.3333333333333333,
              "#9c179e"
             ],
             [
              0.4444444444444444,
              "#bd3786"
             ],
             [
              0.5555555555555556,
              "#d8576b"
             ],
             [
              0.6666666666666666,
              "#ed7953"
             ],
             [
              0.7777777777777778,
              "#fb9f3a"
             ],
             [
              0.8888888888888888,
              "#fdca26"
             ],
             [
              1,
              "#f0f921"
             ]
            ],
            "type": "heatmap"
           }
          ],
          "heatmapgl": [
           {
            "colorbar": {
             "outlinewidth": 0,
             "ticks": ""
            },
            "colorscale": [
             [
              0,
              "#0d0887"
             ],
             [
              0.1111111111111111,
              "#46039f"
             ],
             [
              0.2222222222222222,
              "#7201a8"
             ],
             [
              0.3333333333333333,
              "#9c179e"
             ],
             [
              0.4444444444444444,
              "#bd3786"
             ],
             [
              0.5555555555555556,
              "#d8576b"
             ],
             [
              0.6666666666666666,
              "#ed7953"
             ],
             [
              0.7777777777777778,
              "#fb9f3a"
             ],
             [
              0.8888888888888888,
              "#fdca26"
             ],
             [
              1,
              "#f0f921"
             ]
            ],
            "type": "heatmapgl"
           }
          ],
          "histogram": [
           {
            "marker": {
             "pattern": {
              "fillmode": "overlay",
              "size": 10,
              "solidity": 0.2
             }
            },
            "type": "histogram"
           }
          ],
          "histogram2d": [
           {
            "colorbar": {
             "outlinewidth": 0,
             "ticks": ""
            },
            "colorscale": [
             [
              0,
              "#0d0887"
             ],
             [
              0.1111111111111111,
              "#46039f"
             ],
             [
              0.2222222222222222,
              "#7201a8"
             ],
             [
              0.3333333333333333,
              "#9c179e"
             ],
             [
              0.4444444444444444,
              "#bd3786"
             ],
             [
              0.5555555555555556,
              "#d8576b"
             ],
             [
              0.6666666666666666,
              "#ed7953"
             ],
             [
              0.7777777777777778,
              "#fb9f3a"
             ],
             [
              0.8888888888888888,
              "#fdca26"
             ],
             [
              1,
              "#f0f921"
             ]
            ],
            "type": "histogram2d"
           }
          ],
          "histogram2dcontour": [
           {
            "colorbar": {
             "outlinewidth": 0,
             "ticks": ""
            },
            "colorscale": [
             [
              0,
              "#0d0887"
             ],
             [
              0.1111111111111111,
              "#46039f"
             ],
             [
              0.2222222222222222,
              "#7201a8"
             ],
             [
              0.3333333333333333,
              "#9c179e"
             ],
             [
              0.4444444444444444,
              "#bd3786"
             ],
             [
              0.5555555555555556,
              "#d8576b"
             ],
             [
              0.6666666666666666,
              "#ed7953"
             ],
             [
              0.7777777777777778,
              "#fb9f3a"
             ],
             [
              0.8888888888888888,
              "#fdca26"
             ],
             [
              1,
              "#f0f921"
             ]
            ],
            "type": "histogram2dcontour"
           }
          ],
          "mesh3d": [
           {
            "colorbar": {
             "outlinewidth": 0,
             "ticks": ""
            },
            "type": "mesh3d"
           }
          ],
          "parcoords": [
           {
            "line": {
             "colorbar": {
              "outlinewidth": 0,
              "ticks": ""
             }
            },
            "type": "parcoords"
           }
          ],
          "pie": [
           {
            "automargin": true,
            "type": "pie"
           }
          ],
          "scatter": [
           {
            "fillpattern": {
             "fillmode": "overlay",
             "size": 10,
             "solidity": 0.2
            },
            "type": "scatter"
           }
          ],
          "scatter3d": [
           {
            "line": {
             "colorbar": {
              "outlinewidth": 0,
              "ticks": ""
             }
            },
            "marker": {
             "colorbar": {
              "outlinewidth": 0,
              "ticks": ""
             }
            },
            "type": "scatter3d"
           }
          ],
          "scattercarpet": [
           {
            "marker": {
             "colorbar": {
              "outlinewidth": 0,
              "ticks": ""
             }
            },
            "type": "scattercarpet"
           }
          ],
          "scattergeo": [
           {
            "marker": {
             "colorbar": {
              "outlinewidth": 0,
              "ticks": ""
             }
            },
            "type": "scattergeo"
           }
          ],
          "scattergl": [
           {
            "marker": {
             "colorbar": {
              "outlinewidth": 0,
              "ticks": ""
             }
            },
            "type": "scattergl"
           }
          ],
          "scattermapbox": [
           {
            "marker": {
             "colorbar": {
              "outlinewidth": 0,
              "ticks": ""
             }
            },
            "type": "scattermapbox"
           }
          ],
          "scatterpolar": [
           {
            "marker": {
             "colorbar": {
              "outlinewidth": 0,
              "ticks": ""
             }
            },
            "type": "scatterpolar"
           }
          ],
          "scatterpolargl": [
           {
            "marker": {
             "colorbar": {
              "outlinewidth": 0,
              "ticks": ""
             }
            },
            "type": "scatterpolargl"
           }
          ],
          "scatterternary": [
           {
            "marker": {
             "colorbar": {
              "outlinewidth": 0,
              "ticks": ""
             }
            },
            "type": "scatterternary"
           }
          ],
          "surface": [
           {
            "colorbar": {
             "outlinewidth": 0,
             "ticks": ""
            },
            "colorscale": [
             [
              0,
              "#0d0887"
             ],
             [
              0.1111111111111111,
              "#46039f"
             ],
             [
              0.2222222222222222,
              "#7201a8"
             ],
             [
              0.3333333333333333,
              "#9c179e"
             ],
             [
              0.4444444444444444,
              "#bd3786"
             ],
             [
              0.5555555555555556,
              "#d8576b"
             ],
             [
              0.6666666666666666,
              "#ed7953"
             ],
             [
              0.7777777777777778,
              "#fb9f3a"
             ],
             [
              0.8888888888888888,
              "#fdca26"
             ],
             [
              1,
              "#f0f921"
             ]
            ],
            "type": "surface"
           }
          ],
          "table": [
           {
            "cells": {
             "fill": {
              "color": "#EBF0F8"
             },
             "line": {
              "color": "white"
             }
            },
            "header": {
             "fill": {
              "color": "#C8D4E3"
             },
             "line": {
              "color": "white"
             }
            },
            "type": "table"
           }
          ]
         },
         "layout": {
          "annotationdefaults": {
           "arrowcolor": "#2a3f5f",
           "arrowhead": 0,
           "arrowwidth": 1
          },
          "autotypenumbers": "strict",
          "coloraxis": {
           "colorbar": {
            "outlinewidth": 0,
            "ticks": ""
           }
          },
          "colorscale": {
           "diverging": [
            [
             0,
             "#8e0152"
            ],
            [
             0.1,
             "#c51b7d"
            ],
            [
             0.2,
             "#de77ae"
            ],
            [
             0.3,
             "#f1b6da"
            ],
            [
             0.4,
             "#fde0ef"
            ],
            [
             0.5,
             "#f7f7f7"
            ],
            [
             0.6,
             "#e6f5d0"
            ],
            [
             0.7,
             "#b8e186"
            ],
            [
             0.8,
             "#7fbc41"
            ],
            [
             0.9,
             "#4d9221"
            ],
            [
             1,
             "#276419"
            ]
           ],
           "sequential": [
            [
             0,
             "#0d0887"
            ],
            [
             0.1111111111111111,
             "#46039f"
            ],
            [
             0.2222222222222222,
             "#7201a8"
            ],
            [
             0.3333333333333333,
             "#9c179e"
            ],
            [
             0.4444444444444444,
             "#bd3786"
            ],
            [
             0.5555555555555556,
             "#d8576b"
            ],
            [
             0.6666666666666666,
             "#ed7953"
            ],
            [
             0.7777777777777778,
             "#fb9f3a"
            ],
            [
             0.8888888888888888,
             "#fdca26"
            ],
            [
             1,
             "#f0f921"
            ]
           ],
           "sequentialminus": [
            [
             0,
             "#0d0887"
            ],
            [
             0.1111111111111111,
             "#46039f"
            ],
            [
             0.2222222222222222,
             "#7201a8"
            ],
            [
             0.3333333333333333,
             "#9c179e"
            ],
            [
             0.4444444444444444,
             "#bd3786"
            ],
            [
             0.5555555555555556,
             "#d8576b"
            ],
            [
             0.6666666666666666,
             "#ed7953"
            ],
            [
             0.7777777777777778,
             "#fb9f3a"
            ],
            [
             0.8888888888888888,
             "#fdca26"
            ],
            [
             1,
             "#f0f921"
            ]
           ]
          },
          "colorway": [
           "#636efa",
           "#EF553B",
           "#00cc96",
           "#ab63fa",
           "#FFA15A",
           "#19d3f3",
           "#FF6692",
           "#B6E880",
           "#FF97FF",
           "#FECB52"
          ],
          "font": {
           "color": "#2a3f5f"
          },
          "geo": {
           "bgcolor": "white",
           "lakecolor": "white",
           "landcolor": "#E5ECF6",
           "showlakes": true,
           "showland": true,
           "subunitcolor": "white"
          },
          "hoverlabel": {
           "align": "left"
          },
          "hovermode": "closest",
          "mapbox": {
           "style": "light"
          },
          "paper_bgcolor": "white",
          "plot_bgcolor": "#E5ECF6",
          "polar": {
           "angularaxis": {
            "gridcolor": "white",
            "linecolor": "white",
            "ticks": ""
           },
           "bgcolor": "#E5ECF6",
           "radialaxis": {
            "gridcolor": "white",
            "linecolor": "white",
            "ticks": ""
           }
          },
          "scene": {
           "xaxis": {
            "backgroundcolor": "#E5ECF6",
            "gridcolor": "white",
            "gridwidth": 2,
            "linecolor": "white",
            "showbackground": true,
            "ticks": "",
            "zerolinecolor": "white"
           },
           "yaxis": {
            "backgroundcolor": "#E5ECF6",
            "gridcolor": "white",
            "gridwidth": 2,
            "linecolor": "white",
            "showbackground": true,
            "ticks": "",
            "zerolinecolor": "white"
           },
           "zaxis": {
            "backgroundcolor": "#E5ECF6",
            "gridcolor": "white",
            "gridwidth": 2,
            "linecolor": "white",
            "showbackground": true,
            "ticks": "",
            "zerolinecolor": "white"
           }
          },
          "shapedefaults": {
           "line": {
            "color": "#2a3f5f"
           }
          },
          "ternary": {
           "aaxis": {
            "gridcolor": "white",
            "linecolor": "white",
            "ticks": ""
           },
           "baxis": {
            "gridcolor": "white",
            "linecolor": "white",
            "ticks": ""
           },
           "bgcolor": "#E5ECF6",
           "caxis": {
            "gridcolor": "white",
            "linecolor": "white",
            "ticks": ""
           }
          },
          "title": {
           "x": 0.05
          },
          "xaxis": {
           "automargin": true,
           "gridcolor": "white",
           "linecolor": "white",
           "ticks": "",
           "title": {
            "standoff": 15
           },
           "zerolinecolor": "white",
           "zerolinewidth": 2
          },
          "yaxis": {
           "automargin": true,
           "gridcolor": "white",
           "linecolor": "white",
           "ticks": "",
           "title": {
            "standoff": 15
           },
           "zerolinecolor": "white",
           "zerolinewidth": 2
          }
         }
        },
        "title": {
         "font": {
          "color": "Black",
          "size": 22
         },
         "text": "<b>Similarity Matrix</b>",
         "x": 0.55,
         "xanchor": "center",
         "y": 0.95,
         "yanchor": "top"
        },
        "width": 800,
        "xaxis": {
         "anchor": "y",
         "constrain": "domain",
         "domain": [
          0,
          1
         ],
         "scaleanchor": "y"
        },
        "yaxis": {
         "anchor": "x",
         "autorange": "reversed",
         "constrain": "domain",
         "domain": [
          0,
          1
         ]
        }
       }
      }
     },
     "metadata": {},
     "output_type": "display_data"
    }
   ],
   "source": [
    "topic_model.visualize_heatmap()"
   ]
  },
  {
   "cell_type": "code",
   "execution_count": 16,
   "metadata": {},
   "outputs": [
    {
     "data": {
      "application/vnd.plotly.v1+json": {
       "config": {
        "plotlyServerURL": "https://plot.ly"
       },
       "data": [
        {
         "hoverinfo": "text",
         "marker": {
          "color": "rgb(61,153,112)"
         },
         "mode": "lines",
         "type": "scatter",
         "x": [
          0,
          0.7389610691653234,
          0.7389610691653234,
          0
         ],
         "xaxis": "x",
         "y": [
          -15,
          -15,
          -25,
          -25
         ],
         "yaxis": "y"
        },
        {
         "hoverinfo": "text",
         "marker": {
          "color": "rgb(61,153,112)"
         },
         "mode": "lines",
         "type": "scatter",
         "x": [
          0,
          0.8990297754934806,
          0.8990297754934806,
          0.7389610691653234
         ],
         "xaxis": "x",
         "y": [
          -5,
          -5,
          -20,
          -20
         ],
         "yaxis": "y"
        },
        {
         "hoverinfo": "text",
         "marker": {
          "color": "rgb(255,65,54)"
         },
         "mode": "lines",
         "type": "scatter",
         "x": [
          0,
          0.8815168544892347,
          0.8815168544892347,
          0
         ],
         "xaxis": "x",
         "y": [
          -35,
          -35,
          -45,
          -45
         ],
         "yaxis": "y"
        },
        {
         "hoverinfo": "text",
         "marker": {
          "color": "rgb(0,116,217)"
         },
         "mode": "lines",
         "type": "scatter",
         "x": [
          0.8990297754934806,
          1.0001633271327408,
          1.0001633271327408,
          0.8815168544892347
         ],
         "xaxis": "x",
         "y": [
          -12.5,
          -12.5,
          -40,
          -40
         ],
         "yaxis": "y"
        },
        {
         "hoverinfo": "text",
         "marker": {
          "color": "rgb(35,205,205)"
         },
         "mode": "lines",
         "type": "scatter",
         "x": [
          0,
          0.8383774768893079,
          0.8383774768893079,
          0
         ],
         "xaxis": "x",
         "y": [
          -55,
          -55,
          -65,
          -65
         ],
         "yaxis": "y"
        },
        {
         "hoverinfo": "text",
         "marker": {
          "color": "rgb(35,205,205)"
         },
         "mode": "lines",
         "type": "scatter",
         "x": [
          0,
          0.6030693493814172,
          0.6030693493814172,
          0
         ],
         "xaxis": "x",
         "y": [
          -75,
          -75,
          -85,
          -85
         ],
         "yaxis": "y"
        },
        {
         "hoverinfo": "text",
         "marker": {
          "color": "rgb(35,205,205)"
         },
         "mode": "lines",
         "type": "scatter",
         "x": [
          0.8383774768893079,
          0.9465623365946472,
          0.9465623365946472,
          0.6030693493814172
         ],
         "xaxis": "x",
         "y": [
          -60,
          -60,
          -80,
          -80
         ],
         "yaxis": "y"
        },
        {
         "hoverinfo": "text",
         "marker": {
          "color": "rgb(0,116,217)"
         },
         "mode": "lines",
         "type": "scatter",
         "x": [
          1.0001633271327408,
          1.1378481372330589,
          1.1378481372330589,
          0.9465623365946472
         ],
         "xaxis": "x",
         "y": [
          -26.25,
          -26.25,
          -70,
          -70
         ],
         "yaxis": "y"
        },
        {
         "hoverinfo": "text",
         "marker": {
          "color": "rgb(133,20,75)"
         },
         "mode": "lines",
         "type": "scatter",
         "x": [
          0,
          0.7689514687893595,
          0.7689514687893595,
          0
         ],
         "xaxis": "x",
         "y": [
          -95,
          -95,
          -105,
          -105
         ],
         "yaxis": "y"
        },
        {
         "hoverinfo": "text",
         "marker": {
          "color": "rgb(133,20,75)"
         },
         "mode": "lines",
         "type": "scatter",
         "x": [
          0,
          0.609498618806862,
          0.609498618806862,
          0
         ],
         "xaxis": "x",
         "y": [
          -115,
          -115,
          -125,
          -125
         ],
         "yaxis": "y"
        },
        {
         "hoverinfo": "text",
         "marker": {
          "color": "rgb(133,20,75)"
         },
         "mode": "lines",
         "type": "scatter",
         "x": [
          0.7689514687893595,
          0.923112431018656,
          0.923112431018656,
          0.609498618806862
         ],
         "xaxis": "x",
         "y": [
          -100,
          -100,
          -120,
          -120
         ],
         "yaxis": "y"
        },
        {
         "hoverinfo": "text",
         "marker": {
          "color": "rgb(255,220,0)"
         },
         "mode": "lines",
         "type": "scatter",
         "x": [
          0,
          0.7665310679219535,
          0.7665310679219535,
          0
         ],
         "xaxis": "x",
         "y": [
          -135,
          -135,
          -145,
          -145
         ],
         "yaxis": "y"
        },
        {
         "hoverinfo": "text",
         "marker": {
          "color": "rgb(0,116,217)"
         },
         "mode": "lines",
         "type": "scatter",
         "x": [
          0.923112431018656,
          1.0843383898103065,
          1.0843383898103065,
          0.7665310679219535
         ],
         "xaxis": "x",
         "y": [
          -110,
          -110,
          -140,
          -140
         ],
         "yaxis": "y"
        },
        {
         "hoverinfo": "text",
         "marker": {
          "color": "rgb(0,116,217)"
         },
         "mode": "lines",
         "type": "scatter",
         "x": [
          1.1378481372330589,
          1.2226100967718874,
          1.2226100967718874,
          1.0843383898103065
         ],
         "xaxis": "x",
         "y": [
          -48.125,
          -48.125,
          -125,
          -125
         ],
         "yaxis": "y"
        },
        {
         "hoverinfo": "text",
         "marker": {
          "color": "rgb(40,35,35)"
         },
         "mode": "lines",
         "type": "scatter",
         "x": [
          0,
          0.7280569528829023,
          0.7280569528829023,
          0
         ],
         "xaxis": "x",
         "y": [
          -155,
          -155,
          -165,
          -165
         ],
         "yaxis": "y"
        },
        {
         "hoverinfo": "text",
         "marker": {
          "color": "rgb(61,153,112)"
         },
         "mode": "lines",
         "type": "scatter",
         "x": [
          0,
          0.8210113908771419,
          0.8210113908771419,
          0
         ],
         "xaxis": "x",
         "y": [
          -175,
          -175,
          -185,
          -185
         ],
         "yaxis": "y"
        },
        {
         "hoverinfo": "text",
         "marker": {
          "color": "rgb(0,116,217)"
         },
         "mode": "lines",
         "type": "scatter",
         "x": [
          0.7280569528829023,
          1.0216063641417539,
          1.0216063641417539,
          0.8210113908771419
         ],
         "xaxis": "x",
         "y": [
          -160,
          -160,
          -180,
          -180
         ],
         "yaxis": "y"
        },
        {
         "hoverinfo": "text",
         "marker": {
          "color": "rgb(255,65,54)"
         },
         "mode": "lines",
         "type": "scatter",
         "x": [
          0,
          0.7239863966463864,
          0.7239863966463864,
          0
         ],
         "xaxis": "x",
         "y": [
          -195,
          -195,
          -205,
          -205
         ],
         "yaxis": "y"
        },
        {
         "hoverinfo": "text",
         "marker": {
          "color": "rgb(255,65,54)"
         },
         "mode": "lines",
         "type": "scatter",
         "x": [
          0,
          0.868149587479343,
          0.868149587479343,
          0
         ],
         "xaxis": "x",
         "y": [
          -215,
          -215,
          -225,
          -225
         ],
         "yaxis": "y"
        },
        {
         "hoverinfo": "text",
         "marker": {
          "color": "rgb(255,65,54)"
         },
         "mode": "lines",
         "type": "scatter",
         "x": [
          0.7239863966463864,
          0.9653957050157733,
          0.9653957050157733,
          0.868149587479343
         ],
         "xaxis": "x",
         "y": [
          -200,
          -200,
          -220,
          -220
         ],
         "yaxis": "y"
        },
        {
         "hoverinfo": "text",
         "marker": {
          "color": "rgb(0,116,217)"
         },
         "mode": "lines",
         "type": "scatter",
         "x": [
          1.0216063641417539,
          1.1179785404806397,
          1.1179785404806397,
          0.9653957050157733
         ],
         "xaxis": "x",
         "y": [
          -170,
          -170,
          -210,
          -210
         ],
         "yaxis": "y"
        },
        {
         "hoverinfo": "text",
         "marker": {
          "color": "rgb(35,205,205)"
         },
         "mode": "lines",
         "type": "scatter",
         "x": [
          0,
          0.6340033957206963,
          0.6340033957206963,
          0
         ],
         "xaxis": "x",
         "y": [
          -235,
          -235,
          -245,
          -245
         ],
         "yaxis": "y"
        },
        {
         "hoverinfo": "text",
         "marker": {
          "color": "rgb(35,205,205)"
         },
         "mode": "lines",
         "type": "scatter",
         "x": [
          0.6340033957206963,
          0.7712394503457467,
          0.7712394503457467,
          0
         ],
         "xaxis": "x",
         "y": [
          -240,
          -240,
          -255,
          -255
         ],
         "yaxis": "y"
        },
        {
         "hoverinfo": "text",
         "marker": {
          "color": "rgb(0,116,217)"
         },
         "mode": "lines",
         "type": "scatter",
         "x": [
          1.1179785404806397,
          1.2500549723582404,
          1.2500549723582404,
          0.7712394503457467
         ],
         "xaxis": "x",
         "y": [
          -190,
          -190,
          -247.5,
          -247.5
         ],
         "yaxis": "y"
        },
        {
         "hoverinfo": "text",
         "marker": {
          "color": "rgb(0,116,217)"
         },
         "mode": "lines",
         "type": "scatter",
         "x": [
          1.2226100967718874,
          1.344810781447438,
          1.344810781447438,
          1.2500549723582404
         ],
         "xaxis": "x",
         "y": [
          -86.5625,
          -86.5625,
          -218.75,
          -218.75
         ],
         "yaxis": "y"
        }
       ],
       "layout": {
        "autosize": false,
        "height": 590,
        "hoverlabel": {
         "bgcolor": "white",
         "font": {
          "family": "Rockwell",
          "size": 16
         }
        },
        "hovermode": "closest",
        "plot_bgcolor": "#ECEFF1",
        "showlegend": false,
        "template": {
         "data": {
          "bar": [
           {
            "error_x": {
             "color": "#2a3f5f"
            },
            "error_y": {
             "color": "#2a3f5f"
            },
            "marker": {
             "line": {
              "color": "white",
              "width": 0.5
             },
             "pattern": {
              "fillmode": "overlay",
              "size": 10,
              "solidity": 0.2
             }
            },
            "type": "bar"
           }
          ],
          "barpolar": [
           {
            "marker": {
             "line": {
              "color": "white",
              "width": 0.5
             },
             "pattern": {
              "fillmode": "overlay",
              "size": 10,
              "solidity": 0.2
             }
            },
            "type": "barpolar"
           }
          ],
          "carpet": [
           {
            "aaxis": {
             "endlinecolor": "#2a3f5f",
             "gridcolor": "#C8D4E3",
             "linecolor": "#C8D4E3",
             "minorgridcolor": "#C8D4E3",
             "startlinecolor": "#2a3f5f"
            },
            "baxis": {
             "endlinecolor": "#2a3f5f",
             "gridcolor": "#C8D4E3",
             "linecolor": "#C8D4E3",
             "minorgridcolor": "#C8D4E3",
             "startlinecolor": "#2a3f5f"
            },
            "type": "carpet"
           }
          ],
          "choropleth": [
           {
            "colorbar": {
             "outlinewidth": 0,
             "ticks": ""
            },
            "type": "choropleth"
           }
          ],
          "contour": [
           {
            "colorbar": {
             "outlinewidth": 0,
             "ticks": ""
            },
            "colorscale": [
             [
              0,
              "#0d0887"
             ],
             [
              0.1111111111111111,
              "#46039f"
             ],
             [
              0.2222222222222222,
              "#7201a8"
             ],
             [
              0.3333333333333333,
              "#9c179e"
             ],
             [
              0.4444444444444444,
              "#bd3786"
             ],
             [
              0.5555555555555556,
              "#d8576b"
             ],
             [
              0.6666666666666666,
              "#ed7953"
             ],
             [
              0.7777777777777778,
              "#fb9f3a"
             ],
             [
              0.8888888888888888,
              "#fdca26"
             ],
             [
              1,
              "#f0f921"
             ]
            ],
            "type": "contour"
           }
          ],
          "contourcarpet": [
           {
            "colorbar": {
             "outlinewidth": 0,
             "ticks": ""
            },
            "type": "contourcarpet"
           }
          ],
          "heatmap": [
           {
            "colorbar": {
             "outlinewidth": 0,
             "ticks": ""
            },
            "colorscale": [
             [
              0,
              "#0d0887"
             ],
             [
              0.1111111111111111,
              "#46039f"
             ],
             [
              0.2222222222222222,
              "#7201a8"
             ],
             [
              0.3333333333333333,
              "#9c179e"
             ],
             [
              0.4444444444444444,
              "#bd3786"
             ],
             [
              0.5555555555555556,
              "#d8576b"
             ],
             [
              0.6666666666666666,
              "#ed7953"
             ],
             [
              0.7777777777777778,
              "#fb9f3a"
             ],
             [
              0.8888888888888888,
              "#fdca26"
             ],
             [
              1,
              "#f0f921"
             ]
            ],
            "type": "heatmap"
           }
          ],
          "heatmapgl": [
           {
            "colorbar": {
             "outlinewidth": 0,
             "ticks": ""
            },
            "colorscale": [
             [
              0,
              "#0d0887"
             ],
             [
              0.1111111111111111,
              "#46039f"
             ],
             [
              0.2222222222222222,
              "#7201a8"
             ],
             [
              0.3333333333333333,
              "#9c179e"
             ],
             [
              0.4444444444444444,
              "#bd3786"
             ],
             [
              0.5555555555555556,
              "#d8576b"
             ],
             [
              0.6666666666666666,
              "#ed7953"
             ],
             [
              0.7777777777777778,
              "#fb9f3a"
             ],
             [
              0.8888888888888888,
              "#fdca26"
             ],
             [
              1,
              "#f0f921"
             ]
            ],
            "type": "heatmapgl"
           }
          ],
          "histogram": [
           {
            "marker": {
             "pattern": {
              "fillmode": "overlay",
              "size": 10,
              "solidity": 0.2
             }
            },
            "type": "histogram"
           }
          ],
          "histogram2d": [
           {
            "colorbar": {
             "outlinewidth": 0,
             "ticks": ""
            },
            "colorscale": [
             [
              0,
              "#0d0887"
             ],
             [
              0.1111111111111111,
              "#46039f"
             ],
             [
              0.2222222222222222,
              "#7201a8"
             ],
             [
              0.3333333333333333,
              "#9c179e"
             ],
             [
              0.4444444444444444,
              "#bd3786"
             ],
             [
              0.5555555555555556,
              "#d8576b"
             ],
             [
              0.6666666666666666,
              "#ed7953"
             ],
             [
              0.7777777777777778,
              "#fb9f3a"
             ],
             [
              0.8888888888888888,
              "#fdca26"
             ],
             [
              1,
              "#f0f921"
             ]
            ],
            "type": "histogram2d"
           }
          ],
          "histogram2dcontour": [
           {
            "colorbar": {
             "outlinewidth": 0,
             "ticks": ""
            },
            "colorscale": [
             [
              0,
              "#0d0887"
             ],
             [
              0.1111111111111111,
              "#46039f"
             ],
             [
              0.2222222222222222,
              "#7201a8"
             ],
             [
              0.3333333333333333,
              "#9c179e"
             ],
             [
              0.4444444444444444,
              "#bd3786"
             ],
             [
              0.5555555555555556,
              "#d8576b"
             ],
             [
              0.6666666666666666,
              "#ed7953"
             ],
             [
              0.7777777777777778,
              "#fb9f3a"
             ],
             [
              0.8888888888888888,
              "#fdca26"
             ],
             [
              1,
              "#f0f921"
             ]
            ],
            "type": "histogram2dcontour"
           }
          ],
          "mesh3d": [
           {
            "colorbar": {
             "outlinewidth": 0,
             "ticks": ""
            },
            "type": "mesh3d"
           }
          ],
          "parcoords": [
           {
            "line": {
             "colorbar": {
              "outlinewidth": 0,
              "ticks": ""
             }
            },
            "type": "parcoords"
           }
          ],
          "pie": [
           {
            "automargin": true,
            "type": "pie"
           }
          ],
          "scatter": [
           {
            "fillpattern": {
             "fillmode": "overlay",
             "size": 10,
             "solidity": 0.2
            },
            "type": "scatter"
           }
          ],
          "scatter3d": [
           {
            "line": {
             "colorbar": {
              "outlinewidth": 0,
              "ticks": ""
             }
            },
            "marker": {
             "colorbar": {
              "outlinewidth": 0,
              "ticks": ""
             }
            },
            "type": "scatter3d"
           }
          ],
          "scattercarpet": [
           {
            "marker": {
             "colorbar": {
              "outlinewidth": 0,
              "ticks": ""
             }
            },
            "type": "scattercarpet"
           }
          ],
          "scattergeo": [
           {
            "marker": {
             "colorbar": {
              "outlinewidth": 0,
              "ticks": ""
             }
            },
            "type": "scattergeo"
           }
          ],
          "scattergl": [
           {
            "marker": {
             "colorbar": {
              "outlinewidth": 0,
              "ticks": ""
             }
            },
            "type": "scattergl"
           }
          ],
          "scattermapbox": [
           {
            "marker": {
             "colorbar": {
              "outlinewidth": 0,
              "ticks": ""
             }
            },
            "type": "scattermapbox"
           }
          ],
          "scatterpolar": [
           {
            "marker": {
             "colorbar": {
              "outlinewidth": 0,
              "ticks": ""
             }
            },
            "type": "scatterpolar"
           }
          ],
          "scatterpolargl": [
           {
            "marker": {
             "colorbar": {
              "outlinewidth": 0,
              "ticks": ""
             }
            },
            "type": "scatterpolargl"
           }
          ],
          "scatterternary": [
           {
            "marker": {
             "colorbar": {
              "outlinewidth": 0,
              "ticks": ""
             }
            },
            "type": "scatterternary"
           }
          ],
          "surface": [
           {
            "colorbar": {
             "outlinewidth": 0,
             "ticks": ""
            },
            "colorscale": [
             [
              0,
              "#0d0887"
             ],
             [
              0.1111111111111111,
              "#46039f"
             ],
             [
              0.2222222222222222,
              "#7201a8"
             ],
             [
              0.3333333333333333,
              "#9c179e"
             ],
             [
              0.4444444444444444,
              "#bd3786"
             ],
             [
              0.5555555555555556,
              "#d8576b"
             ],
             [
              0.6666666666666666,
              "#ed7953"
             ],
             [
              0.7777777777777778,
              "#fb9f3a"
             ],
             [
              0.8888888888888888,
              "#fdca26"
             ],
             [
              1,
              "#f0f921"
             ]
            ],
            "type": "surface"
           }
          ],
          "table": [
           {
            "cells": {
             "fill": {
              "color": "#EBF0F8"
             },
             "line": {
              "color": "white"
             }
            },
            "header": {
             "fill": {
              "color": "#C8D4E3"
             },
             "line": {
              "color": "white"
             }
            },
            "type": "table"
           }
          ]
         },
         "layout": {
          "annotationdefaults": {
           "arrowcolor": "#2a3f5f",
           "arrowhead": 0,
           "arrowwidth": 1
          },
          "autotypenumbers": "strict",
          "coloraxis": {
           "colorbar": {
            "outlinewidth": 0,
            "ticks": ""
           }
          },
          "colorscale": {
           "diverging": [
            [
             0,
             "#8e0152"
            ],
            [
             0.1,
             "#c51b7d"
            ],
            [
             0.2,
             "#de77ae"
            ],
            [
             0.3,
             "#f1b6da"
            ],
            [
             0.4,
             "#fde0ef"
            ],
            [
             0.5,
             "#f7f7f7"
            ],
            [
             0.6,
             "#e6f5d0"
            ],
            [
             0.7,
             "#b8e186"
            ],
            [
             0.8,
             "#7fbc41"
            ],
            [
             0.9,
             "#4d9221"
            ],
            [
             1,
             "#276419"
            ]
           ],
           "sequential": [
            [
             0,
             "#0d0887"
            ],
            [
             0.1111111111111111,
             "#46039f"
            ],
            [
             0.2222222222222222,
             "#7201a8"
            ],
            [
             0.3333333333333333,
             "#9c179e"
            ],
            [
             0.4444444444444444,
             "#bd3786"
            ],
            [
             0.5555555555555556,
             "#d8576b"
            ],
            [
             0.6666666666666666,
             "#ed7953"
            ],
            [
             0.7777777777777778,
             "#fb9f3a"
            ],
            [
             0.8888888888888888,
             "#fdca26"
            ],
            [
             1,
             "#f0f921"
            ]
           ],
           "sequentialminus": [
            [
             0,
             "#0d0887"
            ],
            [
             0.1111111111111111,
             "#46039f"
            ],
            [
             0.2222222222222222,
             "#7201a8"
            ],
            [
             0.3333333333333333,
             "#9c179e"
            ],
            [
             0.4444444444444444,
             "#bd3786"
            ],
            [
             0.5555555555555556,
             "#d8576b"
            ],
            [
             0.6666666666666666,
             "#ed7953"
            ],
            [
             0.7777777777777778,
             "#fb9f3a"
            ],
            [
             0.8888888888888888,
             "#fdca26"
            ],
            [
             1,
             "#f0f921"
            ]
           ]
          },
          "colorway": [
           "#636efa",
           "#EF553B",
           "#00cc96",
           "#ab63fa",
           "#FFA15A",
           "#19d3f3",
           "#FF6692",
           "#B6E880",
           "#FF97FF",
           "#FECB52"
          ],
          "font": {
           "color": "#2a3f5f"
          },
          "geo": {
           "bgcolor": "white",
           "lakecolor": "white",
           "landcolor": "white",
           "showlakes": true,
           "showland": true,
           "subunitcolor": "#C8D4E3"
          },
          "hoverlabel": {
           "align": "left"
          },
          "hovermode": "closest",
          "mapbox": {
           "style": "light"
          },
          "paper_bgcolor": "white",
          "plot_bgcolor": "white",
          "polar": {
           "angularaxis": {
            "gridcolor": "#EBF0F8",
            "linecolor": "#EBF0F8",
            "ticks": ""
           },
           "bgcolor": "white",
           "radialaxis": {
            "gridcolor": "#EBF0F8",
            "linecolor": "#EBF0F8",
            "ticks": ""
           }
          },
          "scene": {
           "xaxis": {
            "backgroundcolor": "white",
            "gridcolor": "#DFE8F3",
            "gridwidth": 2,
            "linecolor": "#EBF0F8",
            "showbackground": true,
            "ticks": "",
            "zerolinecolor": "#EBF0F8"
           },
           "yaxis": {
            "backgroundcolor": "white",
            "gridcolor": "#DFE8F3",
            "gridwidth": 2,
            "linecolor": "#EBF0F8",
            "showbackground": true,
            "ticks": "",
            "zerolinecolor": "#EBF0F8"
           },
           "zaxis": {
            "backgroundcolor": "white",
            "gridcolor": "#DFE8F3",
            "gridwidth": 2,
            "linecolor": "#EBF0F8",
            "showbackground": true,
            "ticks": "",
            "zerolinecolor": "#EBF0F8"
           }
          },
          "shapedefaults": {
           "line": {
            "color": "#2a3f5f"
           }
          },
          "ternary": {
           "aaxis": {
            "gridcolor": "#DFE8F3",
            "linecolor": "#A2B1C6",
            "ticks": ""
           },
           "baxis": {
            "gridcolor": "#DFE8F3",
            "linecolor": "#A2B1C6",
            "ticks": ""
           },
           "bgcolor": "white",
           "caxis": {
            "gridcolor": "#DFE8F3",
            "linecolor": "#A2B1C6",
            "ticks": ""
           }
          },
          "title": {
           "x": 0.05
          },
          "xaxis": {
           "automargin": true,
           "gridcolor": "#EBF0F8",
           "linecolor": "#EBF0F8",
           "ticks": "",
           "title": {
            "standoff": 15
           },
           "zerolinecolor": "#EBF0F8",
           "zerolinewidth": 2
          },
          "yaxis": {
           "automargin": true,
           "gridcolor": "#EBF0F8",
           "linecolor": "#EBF0F8",
           "ticks": "",
           "title": {
            "standoff": 15
           },
           "zerolinecolor": "#EBF0F8",
           "zerolinewidth": 2
          }
         }
        },
        "title": {
         "font": {
          "color": "Black",
          "size": 22
         },
         "text": "<b>Hierarchical Clustering</b>",
         "x": 0.5,
         "xanchor": "center",
         "yanchor": "top"
        },
        "width": 1000,
        "xaxis": {
         "mirror": "allticks",
         "rangemode": "tozero",
         "showgrid": false,
         "showline": true,
         "showticklabels": true,
         "ticks": "outside",
         "type": "linear",
         "zeroline": false
        },
        "yaxis": {
         "mirror": "allticks",
         "range": [
          -260,
          0
         ],
         "rangemode": "tozero",
         "showgrid": false,
         "showline": true,
         "showticklabels": true,
         "tickmode": "array",
         "ticks": "outside",
         "ticktext": [
          "9_term_sequence_rule",
          "16_quadratic_coefficient_co...",
          "20_variable_expression_form...",
          "25_equations_simultaneous_s...",
          "6_operations_addition_inverse",
          "14_powers_power_base",
          "5_negative_positive_answer",
          "22_integer_simplifying_square",
          "13_square_root_square root",
          "12_second_method_marked",
          "0_fraction_fractions_denomi...",
          "8_decimal_100_change",
          "1_decimal_digits_place",
          "19_time_answers_times",
          "10_unit_cubic_does recognise",
          "24_range_data_value",
          "2_mean_table_data",
          "15_scale_scale factor_factor",
          "11_common_factors_factor",
          "23_confuses_circle_sector",
          "7_area_perimeter_height",
          "18_edges_shape_struggles",
          "3_angles_angle_degrees",
          "21_line_shape_coordinate",
          "4_graph_intercept_line",
          "17_gradient_change_line"
         ],
         "tickvals": [
          -5,
          -15,
          -25,
          -35,
          -45,
          -55,
          -65,
          -75,
          -85,
          -95,
          -105,
          -115,
          -125,
          -135,
          -145,
          -155,
          -165,
          -175,
          -185,
          -195,
          -205,
          -215,
          -225,
          -235,
          -245,
          -255
         ],
         "type": "linear",
         "zeroline": false
        }
       }
      }
     },
     "metadata": {},
     "output_type": "display_data"
    }
   ],
   "source": [
    "topic_model.visualize_hierarchy()"
   ]
  },
  {
   "cell_type": "markdown",
   "metadata": {},
   "source": [
    "## Assigning Topics to Misconceptions"
   ]
  },
  {
   "cell_type": "code",
   "execution_count": 17,
   "metadata": {},
   "outputs": [
    {
     "data": {
      "application/vnd.jupyter.widget-view+json": {
       "model_id": "f41452e9b24f45e1ae47c6a1912a2bfa",
       "version_major": 2,
       "version_minor": 0
      },
      "text/plain": [
       "Batches:   0%|          | 0/81 [00:00<?, ?it/s]"
      ]
     },
     "metadata": {},
     "output_type": "display_data"
    },
    {
     "name": "stderr",
     "output_type": "stream",
     "text": [
      "2024-11-28 09:50:17,334 - BERTopic - Dimensionality - Reducing dimensionality of input embeddings.\n",
      "2024-11-28 09:50:17,339 - BERTopic - Dimensionality - Completed ✓\n",
      "2024-11-28 09:50:17,340 - BERTopic - Clustering - Approximating new points with `hdbscan_model`\n",
      "2024-11-28 09:50:17,427 - BERTopic - Probabilities - Start calculation of probabilities with HDBSCAN\n",
      "2024-11-28 09:50:17,669 - BERTopic - Probabilities - Completed ✓\n",
      "2024-11-28 09:50:17,670 - BERTopic - Cluster - Completed ✓\n"
     ]
    }
   ],
   "source": [
    "df[\"Topic\"] = topic_model.transform(df[\"MisconceptionName\"])[0]"
   ]
  },
  {
   "cell_type": "markdown",
   "metadata": {},
   "source": [
    "### Visualizing Topic Distribution\n"
   ]
  },
  {
   "cell_type": "code",
   "execution_count": 18,
   "metadata": {},
   "outputs": [
    {
     "data": {
      "text/html": [
       "<div>\n",
       "<style scoped>\n",
       "    .dataframe tbody tr th:only-of-type {\n",
       "        vertical-align: middle;\n",
       "    }\n",
       "\n",
       "    .dataframe tbody tr th {\n",
       "        vertical-align: top;\n",
       "    }\n",
       "\n",
       "    .dataframe thead th {\n",
       "        text-align: right;\n",
       "    }\n",
       "</style>\n",
       "<table border=\"1\" class=\"dataframe\">\n",
       "  <thead>\n",
       "    <tr style=\"text-align: right;\">\n",
       "      <th></th>\n",
       "      <th>MisconceptionId</th>\n",
       "    </tr>\n",
       "  </thead>\n",
       "  <tbody>\n",
       "    <tr>\n",
       "      <th>0</th>\n",
       "      <td>1672</td>\n",
       "    </tr>\n",
       "    <tr>\n",
       "      <th>1</th>\n",
       "      <td>2142</td>\n",
       "    </tr>\n",
       "    <tr>\n",
       "      <th>2</th>\n",
       "      <td>143</td>\n",
       "    </tr>\n",
       "    <tr>\n",
       "      <th>3</th>\n",
       "      <td>2142</td>\n",
       "    </tr>\n",
       "    <tr>\n",
       "      <th>4</th>\n",
       "      <td>1287</td>\n",
       "    </tr>\n",
       "  </tbody>\n",
       "</table>\n",
       "</div>"
      ],
      "text/plain": [
       "   MisconceptionId\n",
       "0             1672\n",
       "1             2142\n",
       "2              143\n",
       "3             2142\n",
       "4             1287"
      ]
     },
     "execution_count": 18,
     "metadata": {},
     "output_type": "execute_result"
    }
   ],
   "source": [
    "qa_df = pd.read_csv(\"data/qa-pair-datasettyjgd2rs.csv\", usecols=[\"MisconceptionId\"])\n",
    "qa_df[\"MisconceptionId\"] = qa_df[\"MisconceptionId\"].astype(pd.Int32Dtype())\n",
    "qa_df.head()"
   ]
  },
  {
   "cell_type": "code",
   "execution_count": 19,
   "metadata": {},
   "outputs": [
    {
     "data": {
      "text/html": [
       "<div>\n",
       "<style scoped>\n",
       "    .dataframe tbody tr th:only-of-type {\n",
       "        vertical-align: middle;\n",
       "    }\n",
       "\n",
       "    .dataframe tbody tr th {\n",
       "        vertical-align: top;\n",
       "    }\n",
       "\n",
       "    .dataframe thead th {\n",
       "        text-align: right;\n",
       "    }\n",
       "</style>\n",
       "<table border=\"1\" class=\"dataframe\">\n",
       "  <thead>\n",
       "    <tr style=\"text-align: right;\">\n",
       "      <th></th>\n",
       "      <th>MisconceptionId</th>\n",
       "      <th>MisconceptionName</th>\n",
       "      <th>Topic</th>\n",
       "      <th>Count</th>\n",
       "    </tr>\n",
       "  </thead>\n",
       "  <tbody>\n",
       "    <tr>\n",
       "      <th>0</th>\n",
       "      <td>0.0</td>\n",
       "      <td>Does not know that angles in a triangle sum to...</td>\n",
       "      <td>3.0</td>\n",
       "      <td>1.0</td>\n",
       "    </tr>\n",
       "    <tr>\n",
       "      <th>1</th>\n",
       "      <td>1.0</td>\n",
       "      <td>Uses dividing fractions method for multiplying...</td>\n",
       "      <td>0.0</td>\n",
       "      <td>2.0</td>\n",
       "    </tr>\n",
       "    <tr>\n",
       "      <th>2</th>\n",
       "      <td>2.0</td>\n",
       "      <td>Believes there are 100 degrees in a full turn</td>\n",
       "      <td>-1.0</td>\n",
       "      <td>2.0</td>\n",
       "    </tr>\n",
       "    <tr>\n",
       "      <th>3</th>\n",
       "      <td>3.0</td>\n",
       "      <td>Thinks a quadratic without a non variable term...</td>\n",
       "      <td>16.0</td>\n",
       "      <td>1.0</td>\n",
       "    </tr>\n",
       "    <tr>\n",
       "      <th>4</th>\n",
       "      <td>4.0</td>\n",
       "      <td>Believes addition of terms and powers of terms...</td>\n",
       "      <td>14.0</td>\n",
       "      <td>2.0</td>\n",
       "    </tr>\n",
       "  </tbody>\n",
       "</table>\n",
       "</div>"
      ],
      "text/plain": [
       "   MisconceptionId                                  MisconceptionName  Topic  \\\n",
       "0              0.0  Does not know that angles in a triangle sum to...    3.0   \n",
       "1              1.0  Uses dividing fractions method for multiplying...    0.0   \n",
       "2              2.0      Believes there are 100 degrees in a full turn   -1.0   \n",
       "3              3.0  Thinks a quadratic without a non variable term...   16.0   \n",
       "4              4.0  Believes addition of terms and powers of terms...   14.0   \n",
       "\n",
       "   Count  \n",
       "0    1.0  \n",
       "1    2.0  \n",
       "2    2.0  \n",
       "3    1.0  \n",
       "4    2.0  "
      ]
     },
     "execution_count": 19,
     "metadata": {},
     "output_type": "execute_result"
    }
   ],
   "source": [
    "df[\"Count\"] = 0\n",
    "\n",
    "for i, row in qa_df.iterrows():\n",
    "    count = qa_df.loc[qa_df[\"MisconceptionId\"] == i, \"MisconceptionId\"].count()\n",
    "    df.loc[i, \"Count\"] = count\n",
    "    \n",
    "assert df[\"Count\"].sum() == qa_df.shape[0]\n",
    "df.head()"
   ]
  },
  {
   "cell_type": "code",
   "execution_count": 20,
   "metadata": {},
   "outputs": [
    {
     "data": {
      "application/vnd.plotly.v1+json": {
       "config": {
        "plotlyServerURL": "https://plot.ly"
       },
       "data": [
        {
         "alignmentgroup": "True",
         "hovertemplate": "variable=Distribution<br>Topic=%{x}<br>value=%{y}<extra></extra>",
         "legendgroup": "Distribution",
         "marker": {
          "color": "#636efa",
          "pattern": {
           "shape": ""
          }
         },
         "name": "Distribution",
         "offsetgroup": "Distribution",
         "orientation": "v",
         "showlegend": true,
         "textposition": "auto",
         "texttemplate": "%{y}",
         "type": "bar",
         "x": [
          -1,
          0,
          1,
          2,
          3,
          4,
          5,
          6,
          7,
          8,
          9,
          10,
          11,
          12,
          13,
          14,
          15,
          16,
          17,
          18,
          19,
          20,
          21,
          22,
          23,
          24,
          25
         ],
         "xaxis": "x",
         "y": [
          682,
          234,
          178,
          155,
          141,
          101,
          101,
          82,
          79,
          75,
          66,
          64,
          63,
          61,
          61,
          47,
          44,
          44,
          43,
          41,
          40,
          33,
          33,
          31,
          31,
          30,
          27
         ],
         "yaxis": "y"
        },
        {
         "alignmentgroup": "True",
         "hovertemplate": "variable=Presence<br>Topic=%{x}<br>value=%{y}<extra></extra>",
         "legendgroup": "Presence",
         "marker": {
          "color": "#EF553B",
          "pattern": {
           "shape": ""
          }
         },
         "name": "Presence",
         "offsetgroup": "Presence",
         "orientation": "v",
         "showlegend": true,
         "textposition": "auto",
         "texttemplate": "%{y}",
         "type": "bar",
         "x": [
          -1,
          0,
          1,
          2,
          3,
          4,
          5,
          6,
          7,
          8,
          9,
          10,
          11,
          12,
          13,
          14,
          15,
          16,
          17,
          18,
          19,
          20,
          21,
          22,
          23,
          24,
          25
         ],
         "xaxis": "x",
         "y": [
          1154,
          405,
          400,
          119,
          186,
          129,
          226,
          302,
          173,
          120,
          172,
          77,
          46,
          58,
          141,
          48,
          39,
          142,
          55,
          67,
          61,
          56,
          83,
          23,
          24,
          29,
          35
         ],
         "yaxis": "y"
        }
       ],
       "layout": {
        "barmode": "group",
        "height": 500,
        "legend": {
         "title": {
          "text": "Metric"
         },
         "tracegroupgap": 0
        },
        "margin": {
         "t": 60
        },
        "template": {
         "data": {
          "bar": [
           {
            "error_x": {
             "color": "#2a3f5f"
            },
            "error_y": {
             "color": "#2a3f5f"
            },
            "marker": {
             "line": {
              "color": "#E5ECF6",
              "width": 0.5
             },
             "pattern": {
              "fillmode": "overlay",
              "size": 10,
              "solidity": 0.2
             }
            },
            "type": "bar"
           }
          ],
          "barpolar": [
           {
            "marker": {
             "line": {
              "color": "#E5ECF6",
              "width": 0.5
             },
             "pattern": {
              "fillmode": "overlay",
              "size": 10,
              "solidity": 0.2
             }
            },
            "type": "barpolar"
           }
          ],
          "carpet": [
           {
            "aaxis": {
             "endlinecolor": "#2a3f5f",
             "gridcolor": "white",
             "linecolor": "white",
             "minorgridcolor": "white",
             "startlinecolor": "#2a3f5f"
            },
            "baxis": {
             "endlinecolor": "#2a3f5f",
             "gridcolor": "white",
             "linecolor": "white",
             "minorgridcolor": "white",
             "startlinecolor": "#2a3f5f"
            },
            "type": "carpet"
           }
          ],
          "choropleth": [
           {
            "colorbar": {
             "outlinewidth": 0,
             "ticks": ""
            },
            "type": "choropleth"
           }
          ],
          "contour": [
           {
            "colorbar": {
             "outlinewidth": 0,
             "ticks": ""
            },
            "colorscale": [
             [
              0,
              "#0d0887"
             ],
             [
              0.1111111111111111,
              "#46039f"
             ],
             [
              0.2222222222222222,
              "#7201a8"
             ],
             [
              0.3333333333333333,
              "#9c179e"
             ],
             [
              0.4444444444444444,
              "#bd3786"
             ],
             [
              0.5555555555555556,
              "#d8576b"
             ],
             [
              0.6666666666666666,
              "#ed7953"
             ],
             [
              0.7777777777777778,
              "#fb9f3a"
             ],
             [
              0.8888888888888888,
              "#fdca26"
             ],
             [
              1,
              "#f0f921"
             ]
            ],
            "type": "contour"
           }
          ],
          "contourcarpet": [
           {
            "colorbar": {
             "outlinewidth": 0,
             "ticks": ""
            },
            "type": "contourcarpet"
           }
          ],
          "heatmap": [
           {
            "colorbar": {
             "outlinewidth": 0,
             "ticks": ""
            },
            "colorscale": [
             [
              0,
              "#0d0887"
             ],
             [
              0.1111111111111111,
              "#46039f"
             ],
             [
              0.2222222222222222,
              "#7201a8"
             ],
             [
              0.3333333333333333,
              "#9c179e"
             ],
             [
              0.4444444444444444,
              "#bd3786"
             ],
             [
              0.5555555555555556,
              "#d8576b"
             ],
             [
              0.6666666666666666,
              "#ed7953"
             ],
             [
              0.7777777777777778,
              "#fb9f3a"
             ],
             [
              0.8888888888888888,
              "#fdca26"
             ],
             [
              1,
              "#f0f921"
             ]
            ],
            "type": "heatmap"
           }
          ],
          "heatmapgl": [
           {
            "colorbar": {
             "outlinewidth": 0,
             "ticks": ""
            },
            "colorscale": [
             [
              0,
              "#0d0887"
             ],
             [
              0.1111111111111111,
              "#46039f"
             ],
             [
              0.2222222222222222,
              "#7201a8"
             ],
             [
              0.3333333333333333,
              "#9c179e"
             ],
             [
              0.4444444444444444,
              "#bd3786"
             ],
             [
              0.5555555555555556,
              "#d8576b"
             ],
             [
              0.6666666666666666,
              "#ed7953"
             ],
             [
              0.7777777777777778,
              "#fb9f3a"
             ],
             [
              0.8888888888888888,
              "#fdca26"
             ],
             [
              1,
              "#f0f921"
             ]
            ],
            "type": "heatmapgl"
           }
          ],
          "histogram": [
           {
            "marker": {
             "pattern": {
              "fillmode": "overlay",
              "size": 10,
              "solidity": 0.2
             }
            },
            "type": "histogram"
           }
          ],
          "histogram2d": [
           {
            "colorbar": {
             "outlinewidth": 0,
             "ticks": ""
            },
            "colorscale": [
             [
              0,
              "#0d0887"
             ],
             [
              0.1111111111111111,
              "#46039f"
             ],
             [
              0.2222222222222222,
              "#7201a8"
             ],
             [
              0.3333333333333333,
              "#9c179e"
             ],
             [
              0.4444444444444444,
              "#bd3786"
             ],
             [
              0.5555555555555556,
              "#d8576b"
             ],
             [
              0.6666666666666666,
              "#ed7953"
             ],
             [
              0.7777777777777778,
              "#fb9f3a"
             ],
             [
              0.8888888888888888,
              "#fdca26"
             ],
             [
              1,
              "#f0f921"
             ]
            ],
            "type": "histogram2d"
           }
          ],
          "histogram2dcontour": [
           {
            "colorbar": {
             "outlinewidth": 0,
             "ticks": ""
            },
            "colorscale": [
             [
              0,
              "#0d0887"
             ],
             [
              0.1111111111111111,
              "#46039f"
             ],
             [
              0.2222222222222222,
              "#7201a8"
             ],
             [
              0.3333333333333333,
              "#9c179e"
             ],
             [
              0.4444444444444444,
              "#bd3786"
             ],
             [
              0.5555555555555556,
              "#d8576b"
             ],
             [
              0.6666666666666666,
              "#ed7953"
             ],
             [
              0.7777777777777778,
              "#fb9f3a"
             ],
             [
              0.8888888888888888,
              "#fdca26"
             ],
             [
              1,
              "#f0f921"
             ]
            ],
            "type": "histogram2dcontour"
           }
          ],
          "mesh3d": [
           {
            "colorbar": {
             "outlinewidth": 0,
             "ticks": ""
            },
            "type": "mesh3d"
           }
          ],
          "parcoords": [
           {
            "line": {
             "colorbar": {
              "outlinewidth": 0,
              "ticks": ""
             }
            },
            "type": "parcoords"
           }
          ],
          "pie": [
           {
            "automargin": true,
            "type": "pie"
           }
          ],
          "scatter": [
           {
            "fillpattern": {
             "fillmode": "overlay",
             "size": 10,
             "solidity": 0.2
            },
            "type": "scatter"
           }
          ],
          "scatter3d": [
           {
            "line": {
             "colorbar": {
              "outlinewidth": 0,
              "ticks": ""
             }
            },
            "marker": {
             "colorbar": {
              "outlinewidth": 0,
              "ticks": ""
             }
            },
            "type": "scatter3d"
           }
          ],
          "scattercarpet": [
           {
            "marker": {
             "colorbar": {
              "outlinewidth": 0,
              "ticks": ""
             }
            },
            "type": "scattercarpet"
           }
          ],
          "scattergeo": [
           {
            "marker": {
             "colorbar": {
              "outlinewidth": 0,
              "ticks": ""
             }
            },
            "type": "scattergeo"
           }
          ],
          "scattergl": [
           {
            "marker": {
             "colorbar": {
              "outlinewidth": 0,
              "ticks": ""
             }
            },
            "type": "scattergl"
           }
          ],
          "scattermapbox": [
           {
            "marker": {
             "colorbar": {
              "outlinewidth": 0,
              "ticks": ""
             }
            },
            "type": "scattermapbox"
           }
          ],
          "scatterpolar": [
           {
            "marker": {
             "colorbar": {
              "outlinewidth": 0,
              "ticks": ""
             }
            },
            "type": "scatterpolar"
           }
          ],
          "scatterpolargl": [
           {
            "marker": {
             "colorbar": {
              "outlinewidth": 0,
              "ticks": ""
             }
            },
            "type": "scatterpolargl"
           }
          ],
          "scatterternary": [
           {
            "marker": {
             "colorbar": {
              "outlinewidth": 0,
              "ticks": ""
             }
            },
            "type": "scatterternary"
           }
          ],
          "surface": [
           {
            "colorbar": {
             "outlinewidth": 0,
             "ticks": ""
            },
            "colorscale": [
             [
              0,
              "#0d0887"
             ],
             [
              0.1111111111111111,
              "#46039f"
             ],
             [
              0.2222222222222222,
              "#7201a8"
             ],
             [
              0.3333333333333333,
              "#9c179e"
             ],
             [
              0.4444444444444444,
              "#bd3786"
             ],
             [
              0.5555555555555556,
              "#d8576b"
             ],
             [
              0.6666666666666666,
              "#ed7953"
             ],
             [
              0.7777777777777778,
              "#fb9f3a"
             ],
             [
              0.8888888888888888,
              "#fdca26"
             ],
             [
              1,
              "#f0f921"
             ]
            ],
            "type": "surface"
           }
          ],
          "table": [
           {
            "cells": {
             "fill": {
              "color": "#EBF0F8"
             },
             "line": {
              "color": "white"
             }
            },
            "header": {
             "fill": {
              "color": "#C8D4E3"
             },
             "line": {
              "color": "white"
             }
            },
            "type": "table"
           }
          ]
         },
         "layout": {
          "annotationdefaults": {
           "arrowcolor": "#2a3f5f",
           "arrowhead": 0,
           "arrowwidth": 1
          },
          "autotypenumbers": "strict",
          "coloraxis": {
           "colorbar": {
            "outlinewidth": 0,
            "ticks": ""
           }
          },
          "colorscale": {
           "diverging": [
            [
             0,
             "#8e0152"
            ],
            [
             0.1,
             "#c51b7d"
            ],
            [
             0.2,
             "#de77ae"
            ],
            [
             0.3,
             "#f1b6da"
            ],
            [
             0.4,
             "#fde0ef"
            ],
            [
             0.5,
             "#f7f7f7"
            ],
            [
             0.6,
             "#e6f5d0"
            ],
            [
             0.7,
             "#b8e186"
            ],
            [
             0.8,
             "#7fbc41"
            ],
            [
             0.9,
             "#4d9221"
            ],
            [
             1,
             "#276419"
            ]
           ],
           "sequential": [
            [
             0,
             "#0d0887"
            ],
            [
             0.1111111111111111,
             "#46039f"
            ],
            [
             0.2222222222222222,
             "#7201a8"
            ],
            [
             0.3333333333333333,
             "#9c179e"
            ],
            [
             0.4444444444444444,
             "#bd3786"
            ],
            [
             0.5555555555555556,
             "#d8576b"
            ],
            [
             0.6666666666666666,
             "#ed7953"
            ],
            [
             0.7777777777777778,
             "#fb9f3a"
            ],
            [
             0.8888888888888888,
             "#fdca26"
            ],
            [
             1,
             "#f0f921"
            ]
           ],
           "sequentialminus": [
            [
             0,
             "#0d0887"
            ],
            [
             0.1111111111111111,
             "#46039f"
            ],
            [
             0.2222222222222222,
             "#7201a8"
            ],
            [
             0.3333333333333333,
             "#9c179e"
            ],
            [
             0.4444444444444444,
             "#bd3786"
            ],
            [
             0.5555555555555556,
             "#d8576b"
            ],
            [
             0.6666666666666666,
             "#ed7953"
            ],
            [
             0.7777777777777778,
             "#fb9f3a"
            ],
            [
             0.8888888888888888,
             "#fdca26"
            ],
            [
             1,
             "#f0f921"
            ]
           ]
          },
          "colorway": [
           "#636efa",
           "#EF553B",
           "#00cc96",
           "#ab63fa",
           "#FFA15A",
           "#19d3f3",
           "#FF6692",
           "#B6E880",
           "#FF97FF",
           "#FECB52"
          ],
          "font": {
           "color": "#2a3f5f"
          },
          "geo": {
           "bgcolor": "white",
           "lakecolor": "white",
           "landcolor": "#E5ECF6",
           "showlakes": true,
           "showland": true,
           "subunitcolor": "white"
          },
          "hoverlabel": {
           "align": "left"
          },
          "hovermode": "closest",
          "mapbox": {
           "style": "light"
          },
          "paper_bgcolor": "white",
          "plot_bgcolor": "#E5ECF6",
          "polar": {
           "angularaxis": {
            "gridcolor": "white",
            "linecolor": "white",
            "ticks": ""
           },
           "bgcolor": "#E5ECF6",
           "radialaxis": {
            "gridcolor": "white",
            "linecolor": "white",
            "ticks": ""
           }
          },
          "scene": {
           "xaxis": {
            "backgroundcolor": "#E5ECF6",
            "gridcolor": "white",
            "gridwidth": 2,
            "linecolor": "white",
            "showbackground": true,
            "ticks": "",
            "zerolinecolor": "white"
           },
           "yaxis": {
            "backgroundcolor": "#E5ECF6",
            "gridcolor": "white",
            "gridwidth": 2,
            "linecolor": "white",
            "showbackground": true,
            "ticks": "",
            "zerolinecolor": "white"
           },
           "zaxis": {
            "backgroundcolor": "#E5ECF6",
            "gridcolor": "white",
            "gridwidth": 2,
            "linecolor": "white",
            "showbackground": true,
            "ticks": "",
            "zerolinecolor": "white"
           }
          },
          "shapedefaults": {
           "line": {
            "color": "#2a3f5f"
           }
          },
          "ternary": {
           "aaxis": {
            "gridcolor": "white",
            "linecolor": "white",
            "ticks": ""
           },
           "baxis": {
            "gridcolor": "white",
            "linecolor": "white",
            "ticks": ""
           },
           "bgcolor": "#E5ECF6",
           "caxis": {
            "gridcolor": "white",
            "linecolor": "white",
            "ticks": ""
           }
          },
          "title": {
           "x": 0.05
          },
          "xaxis": {
           "automargin": true,
           "gridcolor": "white",
           "linecolor": "white",
           "ticks": "",
           "title": {
            "standoff": 15
           },
           "zerolinecolor": "white",
           "zerolinewidth": 2
          },
          "yaxis": {
           "automargin": true,
           "gridcolor": "white",
           "linecolor": "white",
           "ticks": "",
           "title": {
            "standoff": 15
           },
           "zerolinecolor": "white",
           "zerolinewidth": 2
          }
         }
        },
        "title": {
         "text": "Topic Distribution and Presence",
         "x": 0.5
        },
        "width": 2000,
        "xaxis": {
         "anchor": "y",
         "domain": [
          0,
          1
         ],
         "title": {
          "text": "Topic"
         }
        },
        "yaxis": {
         "anchor": "x",
         "domain": [
          0,
          1
         ],
         "title": {
          "text": "Count"
         }
        }
       }
      }
     },
     "metadata": {},
     "output_type": "display_data"
    }
   ],
   "source": [
    "import plotly.express as px\n",
    "\n",
    "# Create a combined dataframe for both metrics\n",
    "topic_distribution = df[\"Topic\"].value_counts().reset_index()\n",
    "topic_distribution.columns = [\"Topic\", \"Distribution\"]\n",
    "\n",
    "topic_presence = df.groupby(\"Topic\")[\"Count\"].sum().reset_index()\n",
    "topic_presence.columns = [\"Topic\", \"Presence\"]\n",
    "\n",
    "# Merge the two dataframes\n",
    "combined_df = topic_distribution.merge(topic_presence, on=\"Topic\")\n",
    "\n",
    "# Create grouped bar plot\n",
    "fig = px.bar(\n",
    "    combined_df,\n",
    "    x=\"Topic\",\n",
    "    y=[\"Distribution\", \"Presence\"],\n",
    "    barmode=\"group\",\n",
    "    text_auto=True,\n",
    ")\n",
    "\n",
    "fig.update_layout(\n",
    "    xaxis_title=\"Topic\",\n",
    "    yaxis_title=\"Count\",\n",
    "    title=\"Topic Distribution and Presence\",\n",
    "    width=2000,\n",
    "    height=500,\n",
    "    title_x=0.5,\n",
    "    legend_title=\"Metric\",\n",
    ")\n",
    "fig.show()"
   ]
  },
  {
   "cell_type": "code",
   "execution_count": 22,
   "metadata": {},
   "outputs": [
    {
     "data": {
      "text/html": [
       "<div>\n",
       "<style scoped>\n",
       "    .dataframe tbody tr th:only-of-type {\n",
       "        vertical-align: middle;\n",
       "    }\n",
       "\n",
       "    .dataframe tbody tr th {\n",
       "        vertical-align: top;\n",
       "    }\n",
       "\n",
       "    .dataframe thead th {\n",
       "        text-align: right;\n",
       "    }\n",
       "</style>\n",
       "<table border=\"1\" class=\"dataframe\">\n",
       "  <thead>\n",
       "    <tr style=\"text-align: right;\">\n",
       "      <th></th>\n",
       "      <th>MisconceptionId</th>\n",
       "      <th>MisconceptionName</th>\n",
       "      <th>Topic</th>\n",
       "      <th>Count</th>\n",
       "    </tr>\n",
       "  </thead>\n",
       "  <tbody>\n",
       "    <tr>\n",
       "      <th>0</th>\n",
       "      <td>0</td>\n",
       "      <td>Does not know that angles in a triangle sum to...</td>\n",
       "      <td>3</td>\n",
       "      <td>1</td>\n",
       "    </tr>\n",
       "    <tr>\n",
       "      <th>1</th>\n",
       "      <td>1</td>\n",
       "      <td>Uses dividing fractions method for multiplying...</td>\n",
       "      <td>0</td>\n",
       "      <td>2</td>\n",
       "    </tr>\n",
       "    <tr>\n",
       "      <th>2</th>\n",
       "      <td>2</td>\n",
       "      <td>Believes there are 100 degrees in a full turn</td>\n",
       "      <td>-1</td>\n",
       "      <td>2</td>\n",
       "    </tr>\n",
       "    <tr>\n",
       "      <th>3</th>\n",
       "      <td>3</td>\n",
       "      <td>Thinks a quadratic without a non variable term...</td>\n",
       "      <td>16</td>\n",
       "      <td>1</td>\n",
       "    </tr>\n",
       "    <tr>\n",
       "      <th>4</th>\n",
       "      <td>4</td>\n",
       "      <td>Believes addition of terms and powers of terms...</td>\n",
       "      <td>14</td>\n",
       "      <td>2</td>\n",
       "    </tr>\n",
       "  </tbody>\n",
       "</table>\n",
       "</div>"
      ],
      "text/plain": [
       "   MisconceptionId                                  MisconceptionName  Topic  \\\n",
       "0                0  Does not know that angles in a triangle sum to...      3   \n",
       "1                1  Uses dividing fractions method for multiplying...      0   \n",
       "2                2      Believes there are 100 degrees in a full turn     -1   \n",
       "3                3  Thinks a quadratic without a non variable term...     16   \n",
       "4                4  Believes addition of terms and powers of terms...     14   \n",
       "\n",
       "   Count  \n",
       "0      1  \n",
       "1      2  \n",
       "2      2  \n",
       "3      1  \n",
       "4      2  "
      ]
     },
     "execution_count": 22,
     "metadata": {},
     "output_type": "execute_result"
    }
   ],
   "source": [
    "df[\"Topic\"] = df[\"Topic\"].astype(pd.Int32Dtype())\n",
    "df[\"Count\"] = df[\"Count\"].astype(pd.Int32Dtype())\n",
    "df[\"MisconceptionId\"] = df[\"MisconceptionId\"].astype(pd.Int32Dtype())\n",
    "df.head()\n"
   ]
  },
  {
   "cell_type": "code",
   "execution_count": 23,
   "metadata": {},
   "outputs": [
    {
     "data": {
      "text/html": [
       "<div>\n",
       "<style scoped>\n",
       "    .dataframe tbody tr th:only-of-type {\n",
       "        vertical-align: middle;\n",
       "    }\n",
       "\n",
       "    .dataframe tbody tr th {\n",
       "        vertical-align: top;\n",
       "    }\n",
       "\n",
       "    .dataframe thead th {\n",
       "        text-align: right;\n",
       "    }\n",
       "</style>\n",
       "<table border=\"1\" class=\"dataframe\">\n",
       "  <thead>\n",
       "    <tr style=\"text-align: right;\">\n",
       "      <th></th>\n",
       "      <th>MisconceptionId</th>\n",
       "      <th>Topic</th>\n",
       "      <th>Count</th>\n",
       "    </tr>\n",
       "  </thead>\n",
       "  <tbody>\n",
       "    <tr>\n",
       "      <th>count</th>\n",
       "      <td>2587.0</td>\n",
       "      <td>2587.0</td>\n",
       "      <td>4370.0</td>\n",
       "    </tr>\n",
       "    <tr>\n",
       "      <th>mean</th>\n",
       "      <td>1293.0</td>\n",
       "      <td>5.654813</td>\n",
       "      <td>1.0</td>\n",
       "    </tr>\n",
       "    <tr>\n",
       "      <th>std</th>\n",
       "      <td>746.946897</td>\n",
       "      <td>7.307434</td>\n",
       "      <td>2.544815</td>\n",
       "    </tr>\n",
       "    <tr>\n",
       "      <th>min</th>\n",
       "      <td>0.0</td>\n",
       "      <td>-1.0</td>\n",
       "      <td>0.0</td>\n",
       "    </tr>\n",
       "    <tr>\n",
       "      <th>25%</th>\n",
       "      <td>646.5</td>\n",
       "      <td>-1.0</td>\n",
       "      <td>0.0</td>\n",
       "    </tr>\n",
       "    <tr>\n",
       "      <th>50%</th>\n",
       "      <td>1293.0</td>\n",
       "      <td>3.0</td>\n",
       "      <td>0.0</td>\n",
       "    </tr>\n",
       "    <tr>\n",
       "      <th>75%</th>\n",
       "      <td>1939.5</td>\n",
       "      <td>10.0</td>\n",
       "      <td>1.0</td>\n",
       "    </tr>\n",
       "    <tr>\n",
       "      <th>max</th>\n",
       "      <td>2586.0</td>\n",
       "      <td>25.0</td>\n",
       "      <td>54.0</td>\n",
       "    </tr>\n",
       "  </tbody>\n",
       "</table>\n",
       "</div>"
      ],
      "text/plain": [
       "       MisconceptionId     Topic     Count\n",
       "count           2587.0    2587.0    4370.0\n",
       "mean            1293.0  5.654813       1.0\n",
       "std         746.946897  7.307434  2.544815\n",
       "min                0.0      -1.0       0.0\n",
       "25%              646.5      -1.0       0.0\n",
       "50%             1293.0       3.0       0.0\n",
       "75%             1939.5      10.0       1.0\n",
       "max             2586.0      25.0      54.0"
      ]
     },
     "execution_count": 23,
     "metadata": {},
     "output_type": "execute_result"
    }
   ],
   "source": [
    "df.describe()"
   ]
  },
  {
   "cell_type": "code",
   "execution_count": 25,
   "metadata": {},
   "outputs": [],
   "source": [
    "from src.constants.wandb_project import WandbProject\n",
    "from src.utils.wandb_artifact import log_dataframe_artifact\n",
    "import wandb"
   ]
  },
  {
   "cell_type": "code",
   "execution_count": 26,
   "metadata": {},
   "outputs": [
    {
     "name": "stderr",
     "output_type": "stream",
     "text": [
      "\u001b[34m\u001b[1mwandb\u001b[0m: Using wandb-core as the SDK backend.  Please refer to https://wandb.me/wandb-core for more information.\n",
      "\u001b[34m\u001b[1mwandb\u001b[0m: Currently logged in as: \u001b[33mshakleenishfar\u001b[0m. Use \u001b[1m`wandb login --relogin`\u001b[0m to force relogin\n"
     ]
    },
    {
     "data": {
      "text/html": [
       "Tracking run with wandb version 0.18.6"
      ],
      "text/plain": [
       "<IPython.core.display.HTML object>"
      ]
     },
     "metadata": {},
     "output_type": "display_data"
    },
    {
     "data": {
      "text/html": [
       "Run data is saved locally in <code>/media/ishrak/volume_1/Projects/mining-misconceptions-in-math/wandb/run-20241128_095321-hf1d69xq</code>"
      ],
      "text/plain": [
       "<IPython.core.display.HTML object>"
      ]
     },
     "metadata": {},
     "output_type": "display_data"
    },
    {
     "data": {
      "text/html": [
       "Syncing run <strong><a href='https://wandb.ai/shakleenishfar/kaggle_eedi/runs/hf1d69xq' target=\"_blank\">zany-paper-117</a></strong> to <a href='https://wandb.ai/shakleenishfar/kaggle_eedi' target=\"_blank\">Weights & Biases</a> (<a href='https://wandb.me/developer-guide' target=\"_blank\">docs</a>)<br/>"
      ],
      "text/plain": [
       "<IPython.core.display.HTML object>"
      ]
     },
     "metadata": {},
     "output_type": "display_data"
    },
    {
     "data": {
      "text/html": [
       " View project at <a href='https://wandb.ai/shakleenishfar/kaggle_eedi' target=\"_blank\">https://wandb.ai/shakleenishfar/kaggle_eedi</a>"
      ],
      "text/plain": [
       "<IPython.core.display.HTML object>"
      ]
     },
     "metadata": {},
     "output_type": "display_data"
    },
    {
     "data": {
      "text/html": [
       " View run at <a href='https://wandb.ai/shakleenishfar/kaggle_eedi/runs/hf1d69xq' target=\"_blank\">https://wandb.ai/shakleenishfar/kaggle_eedi/runs/hf1d69xq</a>"
      ],
      "text/plain": [
       "<IPython.core.display.HTML object>"
      ]
     },
     "metadata": {},
     "output_type": "display_data"
    },
    {
     "data": {
      "text/plain": [
       "<Artifact misconceptions-dataset>"
      ]
     },
     "execution_count": 26,
     "metadata": {},
     "output_type": "execute_result"
    }
   ],
   "source": [
    "wandb.init(project=WandbProject.PROJECT_NAME, job_type=\"dataset-upload\")\n",
    "log_dataframe_artifact(\n",
    "    df,\n",
    "    artifact_name=WandbProject.MISCONCEPTIONS_DATASET_NAME,\n",
    "    artifact_type=\"dataset\",\n",
    "    description=\"Dataset with topic and count for each misconception\",\n",
    ")"
   ]
  }
 ],
 "metadata": {
  "kernelspec": {
   "display_name": "venv",
   "language": "python",
   "name": "python3"
  },
  "language_info": {
   "codemirror_mode": {
    "name": "ipython",
    "version": 3
   },
   "file_extension": ".py",
   "mimetype": "text/x-python",
   "name": "python",
   "nbconvert_exporter": "python",
   "pygments_lexer": "ipython3",
   "version": "3.11.10"
  }
 },
 "nbformat": 4,
 "nbformat_minor": 2
}
