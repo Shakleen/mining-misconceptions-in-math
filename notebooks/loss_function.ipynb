{
 "cells": [
  {
   "cell_type": "code",
   "execution_count": 1,
   "metadata": {},
   "outputs": [],
   "source": [
    "import torch"
   ]
  },
  {
   "cell_type": "code",
   "execution_count": 2,
   "metadata": {},
   "outputs": [],
   "source": [
    "BATCH_SIZE = 8\n",
    "DIMS = 128\n",
    "NEGS = 4\n",
    "\n",
    "queries = torch.randn(BATCH_SIZE, DIMS)\n",
    "docs = torch.randn(BATCH_SIZE, NEGS, DIMS)\n",
    "labels = torch.randint(0, NEGS, (BATCH_SIZE,))\n"
   ]
  },
  {
   "cell_type": "markdown",
   "metadata": {},
   "source": [
    "## Using cosine similarity"
   ]
  },
  {
   "cell_type": "code",
   "execution_count": 3,
   "metadata": {},
   "outputs": [],
   "source": [
    "import torch.nn.functional as F"
   ]
  },
  {
   "cell_type": "code",
   "execution_count": 4,
   "metadata": {},
   "outputs": [
    {
     "name": "stdout",
     "output_type": "stream",
     "text": [
      "tensor([[-0.0301, -0.0199,  0.0759, -0.0753],\n",
      "        [-0.1443, -0.0074,  0.0205,  0.0678],\n",
      "        [-0.0662, -0.1729, -0.0794, -0.0704],\n",
      "        [-0.0774,  0.1044, -0.0715,  0.0125],\n",
      "        [ 0.0147, -0.0013, -0.0150, -0.0045],\n",
      "        [-0.0072,  0.0348,  0.0216, -0.0874],\n",
      "        [ 0.1636, -0.0025,  0.1079,  0.0734],\n",
      "        [-0.1126, -0.0049, -0.1203,  0.0408]])\n"
     ]
    }
   ],
   "source": [
    "similarities = F.cosine_similarity(queries.unsqueeze(1), docs, dim=2)\n",
    "print(similarities)\n"
   ]
  },
  {
   "cell_type": "markdown",
   "metadata": {},
   "source": [
    "## Manual"
   ]
  },
  {
   "cell_type": "code",
   "execution_count": 5,
   "metadata": {},
   "outputs": [
    {
     "name": "stdout",
     "output_type": "stream",
     "text": [
      "torch.Size([8, 4])\n"
     ]
    }
   ],
   "source": [
    "similarities_2 = torch.sum(\n",
    "    F.normalize(queries.unsqueeze(1)) * F.normalize(docs),\n",
    "    dim=2,\n",
    ")\n",
    "print(similarities_2.shape)\n"
   ]
  },
  {
   "cell_type": "code",
   "execution_count": 6,
   "metadata": {},
   "outputs": [
    {
     "data": {
      "text/plain": [
       "False"
      ]
     },
     "execution_count": 6,
     "metadata": {},
     "output_type": "execute_result"
    }
   ],
   "source": [
    "torch.allclose(similarities, similarities_2)"
   ]
  },
  {
   "cell_type": "code",
   "execution_count": 7,
   "metadata": {},
   "outputs": [
    {
     "data": {
      "text/plain": [
       "tensor([[ -2.6535,  -1.7800,   2.1008,  -5.1477],\n",
       "        [ -7.7001,   3.3407,   5.0736,   3.3899],\n",
       "        [  2.9544,  -7.6617,  -0.9367,  -2.0208],\n",
       "        [ -5.7524,   9.2913,   1.8645,  -4.1168],\n",
       "        [  0.5855,  -6.8271,  -2.5184,  -1.4178],\n",
       "        [  2.7816,   2.4713,   0.4089,  -2.1736],\n",
       "        [  8.5400,   1.5806,   4.0709,   6.7426],\n",
       "        [ -3.7116,  -0.9620, -15.0059,   4.9379]])"
      ]
     },
     "execution_count": 7,
     "metadata": {},
     "output_type": "execute_result"
    }
   ],
   "source": [
    "similarities_2"
   ]
  },
  {
   "cell_type": "code",
   "execution_count": 8,
   "metadata": {},
   "outputs": [
    {
     "data": {
      "text/plain": [
       "tensor([[-0.0301, -0.0199,  0.0759, -0.0753],\n",
       "        [-0.1443, -0.0074,  0.0205,  0.0678],\n",
       "        [-0.0662, -0.1729, -0.0794, -0.0704],\n",
       "        [-0.0774,  0.1044, -0.0715,  0.0125],\n",
       "        [ 0.0147, -0.0013, -0.0150, -0.0045],\n",
       "        [-0.0072,  0.0348,  0.0216, -0.0874],\n",
       "        [ 0.1636, -0.0025,  0.1079,  0.0734],\n",
       "        [-0.1126, -0.0049, -0.1203,  0.0408]])"
      ]
     },
     "execution_count": 8,
     "metadata": {},
     "output_type": "execute_result"
    }
   ],
   "source": [
    "similarities"
   ]
  },
  {
   "cell_type": "markdown",
   "metadata": {},
   "source": [
    "## Loss Calculation"
   ]
  },
  {
   "cell_type": "code",
   "execution_count": 9,
   "metadata": {},
   "outputs": [],
   "source": [
    "mask = torch.ones_like(similarities)\n",
    "mask[torch.arange(BATCH_SIZE), labels] = 0"
   ]
  },
  {
   "cell_type": "code",
   "execution_count": 10,
   "metadata": {},
   "outputs": [
    {
     "data": {
      "text/plain": [
       "tensor([[-0.0301],\n",
       "        [ 0.0205],\n",
       "        [-0.0794],\n",
       "        [-0.0715],\n",
       "        [-0.0150],\n",
       "        [-0.0072],\n",
       "        [ 0.0734],\n",
       "        [ 0.0408]])"
      ]
     },
     "execution_count": 10,
     "metadata": {},
     "output_type": "execute_result"
    }
   ],
   "source": [
    "pos_sim = similarities[mask == 0].view(BATCH_SIZE, 1)\n",
    "pos_sim\n"
   ]
  },
  {
   "cell_type": "code",
   "execution_count": 11,
   "metadata": {},
   "outputs": [
    {
     "data": {
      "text/plain": [
       "tensor([[-0.0199,  0.0759, -0.0753],\n",
       "        [-0.1443, -0.0074,  0.0678],\n",
       "        [-0.0662, -0.1729, -0.0704],\n",
       "        [-0.0774,  0.1044,  0.0125],\n",
       "        [ 0.0147, -0.0013, -0.0045],\n",
       "        [ 0.0348,  0.0216, -0.0874],\n",
       "        [ 0.1636, -0.0025,  0.1079],\n",
       "        [-0.1126, -0.0049, -0.1203]])"
      ]
     },
     "execution_count": 11,
     "metadata": {},
     "output_type": "execute_result"
    }
   ],
   "source": [
    "\n",
    "neg_sim = similarities[mask == 1].view(BATCH_SIZE, -1)\n",
    "neg_sim\n"
   ]
  },
  {
   "cell_type": "code",
   "execution_count": 12,
   "metadata": {},
   "outputs": [],
   "source": [
    "temperature = 0.07"
   ]
  },
  {
   "cell_type": "code",
   "execution_count": 13,
   "metadata": {},
   "outputs": [
    {
     "data": {
      "text/plain": [
       "tensor(1.3339)"
      ]
     },
     "execution_count": 13,
     "metadata": {},
     "output_type": "execute_result"
    }
   ],
   "source": [
    "pos_exp = torch.exp(pos_sim / temperature)\n",
    "neg_exp = torch.exp(neg_sim / temperature)\n",
    "\n",
    "loss = -torch.log(pos_exp / (neg_exp.sum(dim=1)))\n",
    "loss.mean()\n"
   ]
  }
 ],
 "metadata": {
  "kernelspec": {
   "display_name": "venv",
   "language": "python",
   "name": "python3"
  },
  "language_info": {
   "codemirror_mode": {
    "name": "ipython",
    "version": 3
   },
   "file_extension": ".py",
   "mimetype": "text/x-python",
   "name": "python",
   "nbconvert_exporter": "python",
   "pygments_lexer": "ipython3",
   "version": "3.11.10"
  }
 },
 "nbformat": 4,
 "nbformat_minor": 2
}
