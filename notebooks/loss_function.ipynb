{
 "cells": [
  {
   "cell_type": "code",
   "execution_count": 1,
   "metadata": {},
   "outputs": [],
   "source": [
    "import os\n",
    "os.chdir(\"../\")"
   ]
  },
  {
   "cell_type": "code",
   "execution_count": 2,
   "metadata": {},
   "outputs": [],
   "source": [
    "from src.utils.seed_everything import seed_everything\n",
    "\n",
    "seed_everything()"
   ]
  },
  {
   "cell_type": "code",
   "execution_count": 3,
   "metadata": {},
   "outputs": [],
   "source": [
    "import torch"
   ]
  },
  {
   "cell_type": "code",
   "execution_count": 4,
   "metadata": {},
   "outputs": [],
   "source": [
    "BATCH_SIZE = 8\n",
    "DIMS = 128\n",
    "NEGS = 4\n",
    "\n",
    "queries = torch.randn(BATCH_SIZE, DIMS)\n",
    "docs = torch.randn(BATCH_SIZE, NEGS, DIMS)\n",
    "labels = torch.randint(0, NEGS, (BATCH_SIZE,))\n"
   ]
  },
  {
   "cell_type": "markdown",
   "metadata": {},
   "source": [
    "## Using cosine similarity"
   ]
  },
  {
   "cell_type": "code",
   "execution_count": 5,
   "metadata": {},
   "outputs": [],
   "source": [
    "import torch.nn.functional as F"
   ]
  },
  {
   "cell_type": "code",
   "execution_count": 6,
   "metadata": {},
   "outputs": [
    {
     "name": "stdout",
     "output_type": "stream",
     "text": [
      "tensor([[ 0.0056,  0.0078, -0.0440, -0.0220],\n",
      "        [-0.1620, -0.1334, -0.0496, -0.0564],\n",
      "        [ 0.2566,  0.1775, -0.0062,  0.1534],\n",
      "        [ 0.0719, -0.0746,  0.0604,  0.0637],\n",
      "        [-0.0932,  0.0905,  0.0314,  0.0192],\n",
      "        [-0.0003,  0.0033,  0.0195, -0.0713],\n",
      "        [ 0.1325, -0.0115, -0.0031,  0.0493],\n",
      "        [ 0.1178,  0.1071,  0.0044, -0.0481]])\n"
     ]
    }
   ],
   "source": [
    "similarities = F.cosine_similarity(queries.unsqueeze(1), docs, dim=2)\n",
    "print(similarities)\n"
   ]
  },
  {
   "cell_type": "markdown",
   "metadata": {},
   "source": [
    "## Manual"
   ]
  },
  {
   "cell_type": "code",
   "execution_count": 7,
   "metadata": {},
   "outputs": [
    {
     "name": "stdout",
     "output_type": "stream",
     "text": [
      "torch.Size([8, 4])\n"
     ]
    }
   ],
   "source": [
    "similarities_2 = torch.sum(\n",
    "    F.normalize(queries.unsqueeze(1)) * F.normalize(docs),\n",
    "    dim=2,\n",
    ")\n",
    "print(similarities_2.shape)\n"
   ]
  },
  {
   "cell_type": "code",
   "execution_count": 8,
   "metadata": {},
   "outputs": [
    {
     "data": {
      "text/plain": [
       "False"
      ]
     },
     "execution_count": 8,
     "metadata": {},
     "output_type": "execute_result"
    }
   ],
   "source": [
    "torch.allclose(similarities, similarities_2)"
   ]
  },
  {
   "cell_type": "code",
   "execution_count": 9,
   "metadata": {},
   "outputs": [
    {
     "data": {
      "text/plain": [
       "tensor([[ -3.4410,  -2.0448,  -3.8589,  -8.3760],\n",
       "        [ -4.7184,  -4.8038,   0.4652,  -0.8647],\n",
       "        [  6.3148,   7.9450,  -5.4284,   8.0711],\n",
       "        [  3.7961, -10.2951,   1.6157,   1.8545],\n",
       "        [ -4.8166,   7.5033,  -1.8139,  -1.9209],\n",
       "        [ -3.5051,  -4.1554,   1.8612,  -1.0211],\n",
       "        [ 13.7368,  -2.2949,   3.4392,   5.5150],\n",
       "        [  5.0538,   6.5248,   2.0178,   1.5827]])"
      ]
     },
     "execution_count": 9,
     "metadata": {},
     "output_type": "execute_result"
    }
   ],
   "source": [
    "similarities_2"
   ]
  },
  {
   "cell_type": "code",
   "execution_count": 10,
   "metadata": {},
   "outputs": [
    {
     "data": {
      "text/plain": [
       "tensor([[ 0.0056,  0.0078, -0.0440, -0.0220],\n",
       "        [-0.1620, -0.1334, -0.0496, -0.0564],\n",
       "        [ 0.2566,  0.1775, -0.0062,  0.1534],\n",
       "        [ 0.0719, -0.0746,  0.0604,  0.0637],\n",
       "        [-0.0932,  0.0905,  0.0314,  0.0192],\n",
       "        [-0.0003,  0.0033,  0.0195, -0.0713],\n",
       "        [ 0.1325, -0.0115, -0.0031,  0.0493],\n",
       "        [ 0.1178,  0.1071,  0.0044, -0.0481]])"
      ]
     },
     "execution_count": 10,
     "metadata": {},
     "output_type": "execute_result"
    }
   ],
   "source": [
    "similarities"
   ]
  },
  {
   "cell_type": "markdown",
   "metadata": {},
   "source": [
    "## Loss Calculation"
   ]
  },
  {
   "cell_type": "code",
   "execution_count": 11,
   "metadata": {},
   "outputs": [],
   "source": [
    "mask = torch.ones_like(similarities)\n",
    "mask[torch.arange(BATCH_SIZE), labels] = 0"
   ]
  },
  {
   "cell_type": "code",
   "execution_count": 12,
   "metadata": {},
   "outputs": [],
   "source": [
    "temperature = 0.07\n",
    "exp = torch.exp(similarities / temperature)"
   ]
  },
  {
   "cell_type": "code",
   "execution_count": 13,
   "metadata": {},
   "outputs": [],
   "source": [
    "pos_exp = exp[mask == 0].view(BATCH_SIZE, 1)"
   ]
  },
  {
   "cell_type": "code",
   "execution_count": 14,
   "metadata": {},
   "outputs": [
    {
     "data": {
      "text/plain": [
       "tensor(1.2697)"
      ]
     },
     "execution_count": 14,
     "metadata": {},
     "output_type": "execute_result"
    }
   ],
   "source": [
    "loss = -torch.log(pos_exp / exp.sum(dim=1))\n",
    "loss.mean()\n"
   ]
  }
 ],
 "metadata": {
  "kernelspec": {
   "display_name": "venv",
   "language": "python",
   "name": "python3"
  },
  "language_info": {
   "codemirror_mode": {
    "name": "ipython",
    "version": 3
   },
   "file_extension": ".py",
   "mimetype": "text/x-python",
   "name": "python",
   "nbconvert_exporter": "python",
   "pygments_lexer": "ipython3",
   "version": "3.11.10"
  }
 },
 "nbformat": 4,
 "nbformat_minor": 2
}
