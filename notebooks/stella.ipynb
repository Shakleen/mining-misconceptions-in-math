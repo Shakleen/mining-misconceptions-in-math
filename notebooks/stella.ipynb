{
 "cells": [
  {
   "cell_type": "code",
   "execution_count": 1,
   "metadata": {},
   "outputs": [],
   "source": [
    "import os\n",
    "os.chdir(\"../\")"
   ]
  },
  {
   "cell_type": "markdown",
   "metadata": {},
   "source": [
    "# Real Data"
   ]
  },
  {
   "cell_type": "code",
   "execution_count": 2,
   "metadata": {},
   "outputs": [],
   "source": [
    "import pandas as pd"
   ]
  },
  {
   "cell_type": "code",
   "execution_count": 3,
   "metadata": {},
   "outputs": [
    {
     "data": {
      "text/html": [
       "<div>\n",
       "<style scoped>\n",
       "    .dataframe tbody tr th:only-of-type {\n",
       "        vertical-align: middle;\n",
       "    }\n",
       "\n",
       "    .dataframe tbody tr th {\n",
       "        vertical-align: top;\n",
       "    }\n",
       "\n",
       "    .dataframe thead th {\n",
       "        text-align: right;\n",
       "    }\n",
       "</style>\n",
       "<table border=\"1\" class=\"dataframe\">\n",
       "  <thead>\n",
       "    <tr style=\"text-align: right;\">\n",
       "      <th></th>\n",
       "      <th>QuestionId</th>\n",
       "      <th>QuestionText</th>\n",
       "      <th>SubjectId</th>\n",
       "      <th>SubjectName</th>\n",
       "      <th>ConstructId</th>\n",
       "      <th>ConstructName</th>\n",
       "      <th>AnswerText</th>\n",
       "      <th>MisconceptionId</th>\n",
       "      <th>MisconceptionName</th>\n",
       "    </tr>\n",
       "  </thead>\n",
       "  <tbody>\n",
       "    <tr>\n",
       "      <th>0</th>\n",
       "      <td>0</td>\n",
       "      <td>\\[\\n3 \\times 2+4-5\\n\\]\\nWhere do the brackets ...</td>\n",
       "      <td>33</td>\n",
       "      <td>BIDMAS</td>\n",
       "      <td>856</td>\n",
       "      <td>Use the order of operations to carry out calcu...</td>\n",
       "      <td>Does not need brackets</td>\n",
       "      <td>1672.0</td>\n",
       "      <td>Confuses the order of operations, believes add...</td>\n",
       "    </tr>\n",
       "    <tr>\n",
       "      <th>1</th>\n",
       "      <td>1</td>\n",
       "      <td>Simplify the following, if possible: \\( \\frac{...</td>\n",
       "      <td>1077</td>\n",
       "      <td>Simplifying Algebraic Fractions</td>\n",
       "      <td>1612</td>\n",
       "      <td>Simplify an algebraic fraction by factorising ...</td>\n",
       "      <td>\\( m+1 \\)</td>\n",
       "      <td>2142.0</td>\n",
       "      <td>Does not know that to factorise a quadratic ex...</td>\n",
       "    </tr>\n",
       "    <tr>\n",
       "      <th>2</th>\n",
       "      <td>1</td>\n",
       "      <td>Simplify the following, if possible: \\( \\frac{...</td>\n",
       "      <td>1077</td>\n",
       "      <td>Simplifying Algebraic Fractions</td>\n",
       "      <td>1612</td>\n",
       "      <td>Simplify an algebraic fraction by factorising ...</td>\n",
       "      <td>\\( m+2 \\)</td>\n",
       "      <td>143.0</td>\n",
       "      <td>Thinks that when you cancel identical terms fr...</td>\n",
       "    </tr>\n",
       "    <tr>\n",
       "      <th>3</th>\n",
       "      <td>1</td>\n",
       "      <td>Simplify the following, if possible: \\( \\frac{...</td>\n",
       "      <td>1077</td>\n",
       "      <td>Simplifying Algebraic Fractions</td>\n",
       "      <td>1612</td>\n",
       "      <td>Simplify an algebraic fraction by factorising ...</td>\n",
       "      <td>\\( m-1 \\)</td>\n",
       "      <td>2142.0</td>\n",
       "      <td>Does not know that to factorise a quadratic ex...</td>\n",
       "    </tr>\n",
       "    <tr>\n",
       "      <th>4</th>\n",
       "      <td>2</td>\n",
       "      <td>Tom and Katie are discussing the \\( 5 \\) plant...</td>\n",
       "      <td>339</td>\n",
       "      <td>Range and Interquartile Range from a List of Data</td>\n",
       "      <td>2774</td>\n",
       "      <td>Calculate the range from a list of data</td>\n",
       "      <td>Only\\nTom</td>\n",
       "      <td>1287.0</td>\n",
       "      <td>Believes if you changed all values by the same...</td>\n",
       "    </tr>\n",
       "  </tbody>\n",
       "</table>\n",
       "</div>"
      ],
      "text/plain": [
       "   QuestionId                                       QuestionText  SubjectId  \\\n",
       "0           0  \\[\\n3 \\times 2+4-5\\n\\]\\nWhere do the brackets ...         33   \n",
       "1           1  Simplify the following, if possible: \\( \\frac{...       1077   \n",
       "2           1  Simplify the following, if possible: \\( \\frac{...       1077   \n",
       "3           1  Simplify the following, if possible: \\( \\frac{...       1077   \n",
       "4           2  Tom and Katie are discussing the \\( 5 \\) plant...        339   \n",
       "\n",
       "                                         SubjectName  ConstructId  \\\n",
       "0                                             BIDMAS          856   \n",
       "1                    Simplifying Algebraic Fractions         1612   \n",
       "2                    Simplifying Algebraic Fractions         1612   \n",
       "3                    Simplifying Algebraic Fractions         1612   \n",
       "4  Range and Interquartile Range from a List of Data         2774   \n",
       "\n",
       "                                       ConstructName              AnswerText  \\\n",
       "0  Use the order of operations to carry out calcu...  Does not need brackets   \n",
       "1  Simplify an algebraic fraction by factorising ...               \\( m+1 \\)   \n",
       "2  Simplify an algebraic fraction by factorising ...               \\( m+2 \\)   \n",
       "3  Simplify an algebraic fraction by factorising ...               \\( m-1 \\)   \n",
       "4            Calculate the range from a list of data               Only\\nTom   \n",
       "\n",
       "   MisconceptionId                                  MisconceptionName  \n",
       "0           1672.0  Confuses the order of operations, believes add...  \n",
       "1           2142.0  Does not know that to factorise a quadratic ex...  \n",
       "2            143.0  Thinks that when you cancel identical terms fr...  \n",
       "3           2142.0  Does not know that to factorise a quadratic ex...  \n",
       "4           1287.0  Believes if you changed all values by the same...  "
      ]
     },
     "execution_count": 3,
     "metadata": {},
     "output_type": "execute_result"
    }
   ],
   "source": [
    "qa_df = pd.read_csv(\"data/qa-pair-datasettyjgd2rs.csv\")\n",
    "qa_df.head()"
   ]
  },
  {
   "cell_type": "code",
   "execution_count": 4,
   "metadata": {},
   "outputs": [
    {
     "data": {
      "text/html": [
       "<div>\n",
       "<style scoped>\n",
       "    .dataframe tbody tr th:only-of-type {\n",
       "        vertical-align: middle;\n",
       "    }\n",
       "\n",
       "    .dataframe tbody tr th {\n",
       "        vertical-align: top;\n",
       "    }\n",
       "\n",
       "    .dataframe thead th {\n",
       "        text-align: right;\n",
       "    }\n",
       "</style>\n",
       "<table border=\"1\" class=\"dataframe\">\n",
       "  <thead>\n",
       "    <tr style=\"text-align: right;\">\n",
       "      <th></th>\n",
       "      <th>MisconceptionId</th>\n",
       "      <th>MisconceptionName</th>\n",
       "      <th>Topic</th>\n",
       "      <th>Count</th>\n",
       "    </tr>\n",
       "  </thead>\n",
       "  <tbody>\n",
       "    <tr>\n",
       "      <th>0</th>\n",
       "      <td>0</td>\n",
       "      <td>Does not know that angles in a triangle sum to...</td>\n",
       "      <td>3</td>\n",
       "      <td>1</td>\n",
       "    </tr>\n",
       "    <tr>\n",
       "      <th>1</th>\n",
       "      <td>1</td>\n",
       "      <td>Uses dividing fractions method for multiplying...</td>\n",
       "      <td>0</td>\n",
       "      <td>2</td>\n",
       "    </tr>\n",
       "    <tr>\n",
       "      <th>2</th>\n",
       "      <td>2</td>\n",
       "      <td>Believes there are 100 degrees in a full turn</td>\n",
       "      <td>-1</td>\n",
       "      <td>2</td>\n",
       "    </tr>\n",
       "    <tr>\n",
       "      <th>3</th>\n",
       "      <td>3</td>\n",
       "      <td>Thinks a quadratic without a non variable term...</td>\n",
       "      <td>16</td>\n",
       "      <td>1</td>\n",
       "    </tr>\n",
       "    <tr>\n",
       "      <th>4</th>\n",
       "      <td>4</td>\n",
       "      <td>Believes addition of terms and powers of terms...</td>\n",
       "      <td>14</td>\n",
       "      <td>2</td>\n",
       "    </tr>\n",
       "  </tbody>\n",
       "</table>\n",
       "</div>"
      ],
      "text/plain": [
       "   MisconceptionId                                  MisconceptionName  Topic  \\\n",
       "0                0  Does not know that angles in a triangle sum to...      3   \n",
       "1                1  Uses dividing fractions method for multiplying...      0   \n",
       "2                2      Believes there are 100 degrees in a full turn     -1   \n",
       "3                3  Thinks a quadratic without a non variable term...     16   \n",
       "4                4  Believes addition of terms and powers of terms...     14   \n",
       "\n",
       "   Count  \n",
       "0      1  \n",
       "1      2  \n",
       "2      2  \n",
       "3      1  \n",
       "4      2  "
      ]
     },
     "execution_count": 4,
     "metadata": {},
     "output_type": "execute_result"
    }
   ],
   "source": [
    "misconception_df = pd.read_csv(\"data/misconception_dataset.csv\")\n",
    "misconception_df.head()"
   ]
  },
  {
   "cell_type": "markdown",
   "metadata": {},
   "source": [
    "### Preparing Query Column"
   ]
  },
  {
   "cell_type": "code",
   "execution_count": 5,
   "metadata": {},
   "outputs": [],
   "source": [
    "def make_query(row):\n",
    "    subject = row[\"SubjectName\"]\n",
    "    construct = row[\"ConstructName\"]\n",
    "    question = row[\"QuestionText\"]\n",
    "    incorrect_answer = row[\"AnswerText\"]\n",
    "    \n",
    "    return (\n",
    "        f\"Subject: {subject}\"\n",
    "        + f\"\\nConstruct: {construct}\"\n",
    "        + f\"\\nQuestion: {question}\"\n",
    "        + f\"\\nIncorrect Answer: {incorrect_answer}\"\n",
    "    )"
   ]
  },
  {
   "cell_type": "code",
   "execution_count": 6,
   "metadata": {},
   "outputs": [
    {
     "data": {
      "text/html": [
       "<div>\n",
       "<style scoped>\n",
       "    .dataframe tbody tr th:only-of-type {\n",
       "        vertical-align: middle;\n",
       "    }\n",
       "\n",
       "    .dataframe tbody tr th {\n",
       "        vertical-align: top;\n",
       "    }\n",
       "\n",
       "    .dataframe thead th {\n",
       "        text-align: right;\n",
       "    }\n",
       "</style>\n",
       "<table border=\"1\" class=\"dataframe\">\n",
       "  <thead>\n",
       "    <tr style=\"text-align: right;\">\n",
       "      <th></th>\n",
       "      <th>QuestionId</th>\n",
       "      <th>QuestionText</th>\n",
       "      <th>SubjectId</th>\n",
       "      <th>SubjectName</th>\n",
       "      <th>ConstructId</th>\n",
       "      <th>ConstructName</th>\n",
       "      <th>AnswerText</th>\n",
       "      <th>MisconceptionId</th>\n",
       "      <th>MisconceptionName</th>\n",
       "      <th>query</th>\n",
       "    </tr>\n",
       "  </thead>\n",
       "  <tbody>\n",
       "    <tr>\n",
       "      <th>0</th>\n",
       "      <td>0</td>\n",
       "      <td>\\[\\n3 \\times 2+4-5\\n\\]\\nWhere do the brackets ...</td>\n",
       "      <td>33</td>\n",
       "      <td>BIDMAS</td>\n",
       "      <td>856</td>\n",
       "      <td>Use the order of operations to carry out calcu...</td>\n",
       "      <td>Does not need brackets</td>\n",
       "      <td>1672.0</td>\n",
       "      <td>Confuses the order of operations, believes add...</td>\n",
       "      <td>Subject: BIDMAS\\nConstruct: Use the order of o...</td>\n",
       "    </tr>\n",
       "    <tr>\n",
       "      <th>1</th>\n",
       "      <td>1</td>\n",
       "      <td>Simplify the following, if possible: \\( \\frac{...</td>\n",
       "      <td>1077</td>\n",
       "      <td>Simplifying Algebraic Fractions</td>\n",
       "      <td>1612</td>\n",
       "      <td>Simplify an algebraic fraction by factorising ...</td>\n",
       "      <td>\\( m+1 \\)</td>\n",
       "      <td>2142.0</td>\n",
       "      <td>Does not know that to factorise a quadratic ex...</td>\n",
       "      <td>Subject: Simplifying Algebraic Fractions\\nCons...</td>\n",
       "    </tr>\n",
       "    <tr>\n",
       "      <th>2</th>\n",
       "      <td>1</td>\n",
       "      <td>Simplify the following, if possible: \\( \\frac{...</td>\n",
       "      <td>1077</td>\n",
       "      <td>Simplifying Algebraic Fractions</td>\n",
       "      <td>1612</td>\n",
       "      <td>Simplify an algebraic fraction by factorising ...</td>\n",
       "      <td>\\( m+2 \\)</td>\n",
       "      <td>143.0</td>\n",
       "      <td>Thinks that when you cancel identical terms fr...</td>\n",
       "      <td>Subject: Simplifying Algebraic Fractions\\nCons...</td>\n",
       "    </tr>\n",
       "    <tr>\n",
       "      <th>3</th>\n",
       "      <td>1</td>\n",
       "      <td>Simplify the following, if possible: \\( \\frac{...</td>\n",
       "      <td>1077</td>\n",
       "      <td>Simplifying Algebraic Fractions</td>\n",
       "      <td>1612</td>\n",
       "      <td>Simplify an algebraic fraction by factorising ...</td>\n",
       "      <td>\\( m-1 \\)</td>\n",
       "      <td>2142.0</td>\n",
       "      <td>Does not know that to factorise a quadratic ex...</td>\n",
       "      <td>Subject: Simplifying Algebraic Fractions\\nCons...</td>\n",
       "    </tr>\n",
       "    <tr>\n",
       "      <th>4</th>\n",
       "      <td>2</td>\n",
       "      <td>Tom and Katie are discussing the \\( 5 \\) plant...</td>\n",
       "      <td>339</td>\n",
       "      <td>Range and Interquartile Range from a List of Data</td>\n",
       "      <td>2774</td>\n",
       "      <td>Calculate the range from a list of data</td>\n",
       "      <td>Only\\nTom</td>\n",
       "      <td>1287.0</td>\n",
       "      <td>Believes if you changed all values by the same...</td>\n",
       "      <td>Subject: Range and Interquartile Range from a ...</td>\n",
       "    </tr>\n",
       "  </tbody>\n",
       "</table>\n",
       "</div>"
      ],
      "text/plain": [
       "   QuestionId                                       QuestionText  SubjectId  \\\n",
       "0           0  \\[\\n3 \\times 2+4-5\\n\\]\\nWhere do the brackets ...         33   \n",
       "1           1  Simplify the following, if possible: \\( \\frac{...       1077   \n",
       "2           1  Simplify the following, if possible: \\( \\frac{...       1077   \n",
       "3           1  Simplify the following, if possible: \\( \\frac{...       1077   \n",
       "4           2  Tom and Katie are discussing the \\( 5 \\) plant...        339   \n",
       "\n",
       "                                         SubjectName  ConstructId  \\\n",
       "0                                             BIDMAS          856   \n",
       "1                    Simplifying Algebraic Fractions         1612   \n",
       "2                    Simplifying Algebraic Fractions         1612   \n",
       "3                    Simplifying Algebraic Fractions         1612   \n",
       "4  Range and Interquartile Range from a List of Data         2774   \n",
       "\n",
       "                                       ConstructName              AnswerText  \\\n",
       "0  Use the order of operations to carry out calcu...  Does not need brackets   \n",
       "1  Simplify an algebraic fraction by factorising ...               \\( m+1 \\)   \n",
       "2  Simplify an algebraic fraction by factorising ...               \\( m+2 \\)   \n",
       "3  Simplify an algebraic fraction by factorising ...               \\( m-1 \\)   \n",
       "4            Calculate the range from a list of data               Only\\nTom   \n",
       "\n",
       "   MisconceptionId                                  MisconceptionName  \\\n",
       "0           1672.0  Confuses the order of operations, believes add...   \n",
       "1           2142.0  Does not know that to factorise a quadratic ex...   \n",
       "2            143.0  Thinks that when you cancel identical terms fr...   \n",
       "3           2142.0  Does not know that to factorise a quadratic ex...   \n",
       "4           1287.0  Believes if you changed all values by the same...   \n",
       "\n",
       "                                               query  \n",
       "0  Subject: BIDMAS\\nConstruct: Use the order of o...  \n",
       "1  Subject: Simplifying Algebraic Fractions\\nCons...  \n",
       "2  Subject: Simplifying Algebraic Fractions\\nCons...  \n",
       "3  Subject: Simplifying Algebraic Fractions\\nCons...  \n",
       "4  Subject: Range and Interquartile Range from a ...  "
      ]
     },
     "execution_count": 6,
     "metadata": {},
     "output_type": "execute_result"
    }
   ],
   "source": [
    "qa_df[\"query\"] = qa_df.apply(make_query, axis=1)\n",
    "qa_df.head()"
   ]
  },
  {
   "cell_type": "markdown",
   "metadata": {},
   "source": [
    "# Sentence Transformers"
   ]
  },
  {
   "cell_type": "code",
   "execution_count": 2,
   "metadata": {},
   "outputs": [],
   "source": [
    "from sentence_transformers import SentenceTransformer"
   ]
  },
  {
   "cell_type": "markdown",
   "metadata": {},
   "source": [
    "### Task Types\n",
    "\n",
    "This model supports two prompts: \"s2p_query\" and \"s2s_query\" for sentence-to-passage and sentence-to-sentence tasks, respectively. They are defined in `config_sentence_transformers.json`\n",
    "\n",
    "1. Prompt of s2p task(e.g. retrieve task): `Instruct: Given a web search query, retrieve relevant passages that answer the query.\\nQuery: {query}`\n",
    "2. Prompt of s2s task(e.g. semantic textual similarity task): `Instruct: Retrieve semantically similar text.\\nQuery: {query}`"
   ]
  },
  {
   "cell_type": "code",
   "execution_count": 3,
   "metadata": {},
   "outputs": [],
   "source": [
    "query_prompt_name = \"s2p_query\""
   ]
  },
  {
   "cell_type": "code",
   "execution_count": 6,
   "metadata": {},
   "outputs": [],
   "source": [
    "model = SentenceTransformer(\"/media/ishrak/volume_1/Projects/mining-misconceptions-in-math/.cache/stella_en_1.5B_v5\", trust_remote_code=True).cuda()"
   ]
  },
  {
   "cell_type": "markdown",
   "metadata": {},
   "source": [
    "## Inference on Dummy Data"
   ]
  },
  {
   "cell_type": "code",
   "execution_count": 4,
   "metadata": {},
   "outputs": [],
   "source": [
    "queries = [\n",
    "    \"What are some ways to reduce stress?\",\n",
    "    \"What are the benefits of drinking green tea?\",\n",
    "]"
   ]
  },
  {
   "cell_type": "code",
   "execution_count": 5,
   "metadata": {},
   "outputs": [],
   "source": [
    "docs = [\n",
    "    \"There are many effective ways to reduce stress. Some common techniques include deep breathing, meditation, and physical activity. Engaging in hobbies, spending time in nature, and connecting with loved ones can also help alleviate stress. Additionally, setting boundaries, practicing self-care, and learning to say no can prevent stress from building up.\",\n",
    "    \"Green tea has been consumed for centuries and is known for its potential health benefits. It contains antioxidants that may help protect the body against damage caused by free radicals. Regular consumption of green tea has been associated with improved heart health, enhanced cognitive function, and a reduced risk of certain types of cancer. The polyphenols in green tea may also have anti-inflammatory and weight loss properties.\",\n",
    "]"
   ]
  },
  {
   "cell_type": "code",
   "execution_count": 7,
   "metadata": {},
   "outputs": [],
   "source": [
    "query_embeddings = model.encode(queries, prompt_name=query_prompt_name)\n",
    "doc_embeddings = model.encode(docs)"
   ]
  },
  {
   "cell_type": "code",
   "execution_count": 8,
   "metadata": {},
   "outputs": [
    {
     "data": {
      "text/plain": [
       "(2, 1024)"
      ]
     },
     "execution_count": 8,
     "metadata": {},
     "output_type": "execute_result"
    }
   ],
   "source": [
    "query_embeddings.shape"
   ]
  },
  {
   "cell_type": "code",
   "execution_count": 9,
   "metadata": {},
   "outputs": [
    {
     "data": {
      "text/plain": [
       "(2, 1024)"
      ]
     },
     "execution_count": 9,
     "metadata": {},
     "output_type": "execute_result"
    }
   ],
   "source": [
    "doc_embeddings.shape"
   ]
  },
  {
   "cell_type": "code",
   "execution_count": 10,
   "metadata": {},
   "outputs": [
    {
     "name": "stdout",
     "output_type": "stream",
     "text": [
      "tensor([[0.8179, 0.2958],\n",
      "        [0.3194, 0.7854]])\n"
     ]
    }
   ],
   "source": [
    "similarities = model.similarity(query_embeddings, doc_embeddings)\n",
    "print(similarities)"
   ]
  },
  {
   "cell_type": "code",
   "execution_count": 11,
   "metadata": {},
   "outputs": [],
   "source": [
    "del query_embeddings, doc_embeddings, similarities"
   ]
  },
  {
   "cell_type": "markdown",
   "metadata": {},
   "source": [
    "## Inference on Real Data"
   ]
  },
  {
   "cell_type": "markdown",
   "metadata": {},
   "source": [
    "### Encoding Queries"
   ]
  },
  {
   "cell_type": "code",
   "execution_count": 17,
   "metadata": {},
   "outputs": [
    {
     "data": {
      "text/plain": [
       "(10, 1024)"
      ]
     },
     "execution_count": 17,
     "metadata": {},
     "output_type": "execute_result"
    }
   ],
   "source": [
    "query_embeddings = model.encode(qa_df[\"query\"].iloc[:10], prompt_name=query_prompt_name)\n",
    "query_embeddings.shape"
   ]
  },
  {
   "cell_type": "markdown",
   "metadata": {},
   "source": [
    "### Encoding Misconceptions"
   ]
  },
  {
   "cell_type": "code",
   "execution_count": 19,
   "metadata": {},
   "outputs": [
    {
     "data": {
      "text/plain": [
       "(2587, 1024)"
      ]
     },
     "execution_count": 19,
     "metadata": {},
     "output_type": "execute_result"
    }
   ],
   "source": [
    "doc_embeddings = model.encode(misconception_df[\"MisconceptionName\"])\n",
    "doc_embeddings.shape"
   ]
  },
  {
   "cell_type": "markdown",
   "metadata": {},
   "source": [
    "### Computing Similarities"
   ]
  },
  {
   "cell_type": "code",
   "execution_count": 20,
   "metadata": {},
   "outputs": [
    {
     "data": {
      "text/plain": [
       "torch.Size([10, 2587])"
      ]
     },
     "execution_count": 20,
     "metadata": {},
     "output_type": "execute_result"
    }
   ],
   "source": [
    "similarities = model.similarity(query_embeddings, doc_embeddings)\n",
    "similarities.shape"
   ]
  },
  {
   "cell_type": "markdown",
   "metadata": {},
   "source": [
    "### Getting Top K Similar Misconceptions"
   ]
  },
  {
   "cell_type": "code",
   "execution_count": 21,
   "metadata": {},
   "outputs": [],
   "source": [
    "import torch"
   ]
  },
  {
   "cell_type": "code",
   "execution_count": 24,
   "metadata": {},
   "outputs": [
    {
     "data": {
      "text/plain": [
       "torch.Size([10, 25])"
      ]
     },
     "execution_count": 24,
     "metadata": {},
     "output_type": "execute_result"
    }
   ],
   "source": [
    "top_k_indices = torch.argsort(similarities, descending=True)[:, :25]\n",
    "top_k_indices.shape\n"
   ]
  },
  {
   "cell_type": "markdown",
   "metadata": {},
   "source": [
    "### Evaluate"
   ]
  },
  {
   "cell_type": "code",
   "execution_count": 26,
   "metadata": {},
   "outputs": [
    {
     "name": "stdout",
     "output_type": "stream",
     "text": [
      "Accuracy: 0.4\n"
     ]
    }
   ],
   "source": [
    "found = 0\n",
    "\n",
    "for i, row in qa_df.iloc[:10].iterrows():\n",
    "    actual_misconception = row[\"MisconceptionId\"]\n",
    "\n",
    "    found += int(actual_misconception in top_k_indices[i])\n",
    "\n",
    "accuracy = found / len(qa_df.iloc[:10])\n",
    "print(f\"Accuracy: {accuracy}\")"
   ]
  },
  {
   "cell_type": "code",
   "execution_count": 27,
   "metadata": {},
   "outputs": [],
   "source": [
    "del model, query_embeddings, doc_embeddings, similarities, top_k_indices, accuracy, found"
   ]
  },
  {
   "cell_type": "markdown",
   "metadata": {},
   "source": [
    "# Transformers"
   ]
  },
  {
   "cell_type": "code",
   "execution_count": 10,
   "metadata": {},
   "outputs": [],
   "source": [
    "import pytorch_lightning as pl\n",
    "from transformers import AutoModel, AutoTokenizer\n",
    "import torch\n"
   ]
  },
  {
   "cell_type": "code",
   "execution_count": 11,
   "metadata": {},
   "outputs": [],
   "source": [
    "class Stella(pl.LightningModule):\n",
    "    def __init__(self, model_path: str, vector_dim: int = 1024):\n",
    "        super().__init__()\n",
    "        \n",
    "        vector_linear_directory = f\"2_Dense_{vector_dim}\"\n",
    "\n",
    "        self.model = AutoModel.from_pretrained(model_path, trust_remote_code=True)\n",
    "        self.vector_linear = torch.nn.Linear(in_features=self.model.config.hidden_size, out_features=vector_dim)\n",
    "        vector_linear_dict = {\n",
    "            k.replace(\"linear.\", \"\"): v for k, v in\n",
    "            torch.load(os.path.join(model_path, f\"{vector_linear_directory}/pytorch_model.bin\")).items()\n",
    "        }\n",
    "        self.vector_linear.load_state_dict(vector_linear_dict)\n",
    "\n",
    "    def forward(self, input_ids, attention_mask):\n",
    "        outputs = self.model(input_ids, attention_mask=attention_mask)\n",
    "        return self.vector_linear(outputs.last_hidden_state[:, 0, :])"
   ]
  },
  {
   "cell_type": "code",
   "execution_count": 12,
   "metadata": {},
   "outputs": [
    {
     "name": "stderr",
     "output_type": "stream",
     "text": [
      "/tmp/ipykernel_14706/1777505697.py:11: FutureWarning: You are using `torch.load` with `weights_only=False` (the current default value), which uses the default pickle module implicitly. It is possible to construct malicious pickle data which will execute arbitrary code during unpickling (See https://github.com/pytorch/pytorch/blob/main/SECURITY.md#untrusted-models for more details). In a future release, the default value for `weights_only` will be flipped to `True`. This limits the functions that could be executed during unpickling. Arbitrary objects will no longer be allowed to be loaded via this mode unless they are explicitly allowlisted by the user via `torch.serialization.add_safe_globals`. We recommend you start setting `weights_only=True` for any use case where you don't have full control of the loaded file. Please open an issue on GitHub for any issues related to this experimental feature.\n",
      "  torch.load(os.path.join(model_path, f\"{vector_linear_directory}/pytorch_model.bin\")).items()\n"
     ]
    }
   ],
   "source": [
    "model = Stella(\"/media/ishrak/volume_1/Projects/mining-misconceptions-in-math/.cache/stella_en_1.5B_v5\")"
   ]
  },
  {
   "cell_type": "code",
   "execution_count": 16,
   "metadata": {},
   "outputs": [],
   "source": [
    "model.model.save_pretrained(\"stella_model\")"
   ]
  },
  {
   "cell_type": "code",
   "execution_count": 17,
   "metadata": {},
   "outputs": [
    {
     "name": "stdout",
     "output_type": "stream",
     "text": [
      "Help on method save_pretrained in module transformers.modeling_utils:\n",
      "\n",
      "save_pretrained(save_directory: Union[str, os.PathLike], is_main_process: bool = True, state_dict: Optional[dict] = None, save_function: Callable = <function save at 0x744be9b7a340>, push_to_hub: bool = False, max_shard_size: Union[int, str] = '5GB', safe_serialization: bool = True, variant: Optional[str] = None, token: Union[str, bool, NoneType] = None, save_peft_format: bool = True, **kwargs) method of transformers_modules.stella_en_1.5B_v5.modeling_qwen.Qwen2Model instance\n",
      "    Save a model and its configuration file to a directory, so that it can be re-loaded using the\n",
      "    [`~PreTrainedModel.from_pretrained`] class method.\n",
      "    \n",
      "    Arguments:\n",
      "        save_directory (`str` or `os.PathLike`):\n",
      "            Directory to which to save. Will be created if it doesn't exist.\n",
      "        is_main_process (`bool`, *optional*, defaults to `True`):\n",
      "            Whether the process calling this is the main process or not. Useful when in distributed training like\n",
      "            TPUs and need to call this function on all processes. In this case, set `is_main_process=True` only on\n",
      "            the main process to avoid race conditions.\n",
      "        state_dict (nested dictionary of `torch.Tensor`):\n",
      "            The state dictionary of the model to save. Will default to `self.state_dict()`, but can be used to only\n",
      "            save parts of the model or if special precautions need to be taken when recovering the state dictionary\n",
      "            of a model (like when using model parallelism).\n",
      "        save_function (`Callable`):\n",
      "            The function to use to save the state dictionary. Useful on distributed training like TPUs when one\n",
      "            need to replace `torch.save` by another method.\n",
      "        push_to_hub (`bool`, *optional*, defaults to `False`):\n",
      "            Whether or not to push your model to the Hugging Face model hub after saving it. You can specify the\n",
      "            repository you want to push to with `repo_id` (will default to the name of `save_directory` in your\n",
      "            namespace).\n",
      "        max_shard_size (`int` or `str`, *optional*, defaults to `\"5GB\"`):\n",
      "            The maximum size for a checkpoint before being sharded. Checkpoints shard will then be each of size\n",
      "            lower than this size. If expressed as a string, needs to be digits followed by a unit (like `\"5MB\"`).\n",
      "            We default it to 5GB in order for models to be able to run easily on free-tier google colab instances\n",
      "            without CPU OOM issues.\n",
      "    \n",
      "            <Tip warning={true}>\n",
      "    \n",
      "            If a single weight of the model is bigger than `max_shard_size`, it will be in its own checkpoint shard\n",
      "            which will be bigger than `max_shard_size`.\n",
      "    \n",
      "            </Tip>\n",
      "    \n",
      "        safe_serialization (`bool`, *optional*, defaults to `True`):\n",
      "            Whether to save the model using `safetensors` or the traditional PyTorch way (that uses `pickle`).\n",
      "        variant (`str`, *optional*):\n",
      "            If specified, weights are saved in the format pytorch_model.<variant>.bin.\n",
      "        token (`str` or `bool`, *optional*):\n",
      "            The token to use as HTTP bearer authorization for remote files. If `True`, or not specified, will use\n",
      "            the token generated when running `huggingface-cli login` (stored in `~/.huggingface`).\n",
      "        save_peft_format (`bool`, *optional*, defaults to `True`):\n",
      "            For backward compatibility with PEFT library, in case adapter weights are attached to the model, all\n",
      "            keys of the state dict of adapters needs to be pre-pended with `base_model.model`. Advanced users can\n",
      "            disable this behaviours by setting `save_peft_format` to `False`.\n",
      "        kwargs (`Dict[str, Any]`, *optional*):\n",
      "            Additional key word arguments passed along to the [`~utils.PushToHubMixin.push_to_hub`] method.\n",
      "\n"
     ]
    }
   ],
   "source": [
    "torch.save(model.vector_linear.state_dict(), \"stella_vector_linear.bin\")\n"
   ]
  }
 ],
 "metadata": {
  "kernelspec": {
   "display_name": "venv",
   "language": "python",
   "name": "python3"
  },
  "language_info": {
   "codemirror_mode": {
    "name": "ipython",
    "version": 3
   },
   "file_extension": ".py",
   "mimetype": "text/x-python",
   "name": "python",
   "nbconvert_exporter": "python",
   "pygments_lexer": "ipython3",
   "version": "3.11.10"
  }
 },
 "nbformat": 4,
 "nbformat_minor": 2
}
